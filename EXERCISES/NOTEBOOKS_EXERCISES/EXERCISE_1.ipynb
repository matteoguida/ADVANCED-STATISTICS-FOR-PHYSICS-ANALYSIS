{
 "cells": [
  {
   "cell_type": "markdown",
   "metadata": {},
   "source": [
    "### ADVANCED STATISTICS FOR PHYSICS ANALYSIS, Physics of Data\n",
    "###  Student: Matteo Guida \n",
    "### ID Number: 1211201"
   ]
  },
  {
   "cell_type": "markdown",
   "metadata": {},
   "source": [
    "# Sheet 1"
   ]
  },
  {
   "cell_type": "markdown",
   "metadata": {},
   "source": [
    "## Exercise 1"
   ]
  },
  {
   "cell_type": "code",
   "execution_count": 1,
   "metadata": {},
   "outputs": [
    {
     "data": {
      "text/html": [
       "<table>\n",
       "<caption>A data.frame: 9 × 3</caption>\n",
       "<thead>\n",
       "\t<tr><th scope=col>lakes_names</th><th scope=col>elevations</th><th scope=col>areas</th></tr>\n",
       "\t<tr><th scope=col>&lt;fct&gt;</th><th scope=col>&lt;dbl&gt;</th><th scope=col>&lt;dbl&gt;</th></tr>\n",
       "</thead>\n",
       "<tbody>\n",
       "\t<tr><td>Winnipeg      </td><td>217</td><td>24387</td></tr>\n",
       "\t<tr><td>Winnipegosis  </td><td>254</td><td> 5374</td></tr>\n",
       "\t<tr><td>Manitoba      </td><td>248</td><td> 4624</td></tr>\n",
       "\t<tr><td>SouthernIndian</td><td>254</td><td> 2247</td></tr>\n",
       "\t<tr><td>Cedar         </td><td>253</td><td> 1353</td></tr>\n",
       "\t<tr><td>Island        </td><td>227</td><td> 1223</td></tr>\n",
       "\t<tr><td>Gods          </td><td>178</td><td> 1151</td></tr>\n",
       "\t<tr><td>Cross         </td><td>207</td><td>  755</td></tr>\n",
       "\t<tr><td>Playgreen     </td><td>217</td><td>  657</td></tr>\n",
       "</tbody>\n",
       "</table>\n"
      ],
      "text/latex": [
       "A data.frame: 9 × 3\n",
       "\\begin{tabular}{r|lll}\n",
       " lakes\\_names & elevations & areas\\\\\n",
       " <fct> & <dbl> & <dbl>\\\\\n",
       "\\hline\n",
       "\t Winnipeg       & 217 & 24387\\\\\n",
       "\t Winnipegosis   & 254 &  5374\\\\\n",
       "\t Manitoba       & 248 &  4624\\\\\n",
       "\t SouthernIndian & 254 &  2247\\\\\n",
       "\t Cedar          & 253 &  1353\\\\\n",
       "\t Island         & 227 &  1223\\\\\n",
       "\t Gods           & 178 &  1151\\\\\n",
       "\t Cross          & 207 &   755\\\\\n",
       "\t Playgreen      & 217 &   657\\\\\n",
       "\\end{tabular}\n"
      ],
      "text/markdown": [
       "\n",
       "A data.frame: 9 × 3\n",
       "\n",
       "| lakes_names &lt;fct&gt; | elevations &lt;dbl&gt; | areas &lt;dbl&gt; |\n",
       "|---|---|---|\n",
       "| Winnipeg       | 217 | 24387 |\n",
       "| Winnipegosis   | 254 |  5374 |\n",
       "| Manitoba       | 248 |  4624 |\n",
       "| SouthernIndian | 254 |  2247 |\n",
       "| Cedar          | 253 |  1353 |\n",
       "| Island         | 227 |  1223 |\n",
       "| Gods           | 178 |  1151 |\n",
       "| Cross          | 207 |   755 |\n",
       "| Playgreen      | 217 |   657 |\n",
       "\n"
      ],
      "text/plain": [
       "  lakes_names    elevations areas\n",
       "1 Winnipeg       217        24387\n",
       "2 Winnipegosis   254         5374\n",
       "3 Manitoba       248         4624\n",
       "4 SouthernIndian 254         2247\n",
       "5 Cedar          253         1353\n",
       "6 Island         227         1223\n",
       "7 Gods           178         1151\n",
       "8 Cross          207          755\n",
       "9 Playgreen      217          657"
      ]
     },
     "metadata": {},
     "output_type": "display_data"
    }
   ],
   "source": [
    "lakes_names<-c(\"Winnipeg\",\"Winnipegosis\",\"Manitoba\",\"SouthernIndian\",\"Cedar\",\"Island\",\"Gods\",\"Cross\",\"Playgreen\")\n",
    "areas<-c(24387,5374,4624,2247,1353,1223,1151,755,657)\n",
    "elevations<-c(217,254,248,254,253,227,178,207,217)\n",
    "manitoba.lakes<-data.frame(lakes_names, elevations,areas) \n",
    "manitoba.lakes"
   ]
  },
  {
   "cell_type": "markdown",
   "metadata": {},
   "source": [
    "##### 1"
   ]
  },
  {
   "cell_type": "code",
   "execution_count": 2,
   "metadata": {},
   "outputs": [
    {
     "data": {
      "text/html": [
       "254"
      ],
      "text/latex": [
       "254"
      ],
      "text/markdown": [
       "254"
      ],
      "text/plain": [
       "[1] 254"
      ]
     },
     "metadata": {},
     "output_type": "display_data"
    },
    {
     "data": {
      "text/html": [
       "178"
      ],
      "text/latex": [
       "178"
      ],
      "text/markdown": [
       "178"
      ],
      "text/plain": [
       "[1] 178"
      ]
     },
     "metadata": {},
     "output_type": "display_data"
    }
   ],
   "source": [
    "max(subset(manitoba.lakes,select=elevations))\n",
    "min(subset(manitoba.lakes,select=elevations))"
   ]
  },
  {
   "cell_type": "markdown",
   "metadata": {},
   "source": [
    "##### 2"
   ]
  },
  {
   "cell_type": "code",
   "execution_count": 3,
   "metadata": {
    "scrolled": true
   },
   "outputs": [
    {
     "data": {
      "text/html": [
       "<table>\n",
       "<caption>A data.frame: 9 × 3</caption>\n",
       "<thead>\n",
       "\t<tr><th></th><th scope=col>lakes_names</th><th scope=col>elevations</th><th scope=col>areas</th></tr>\n",
       "\t<tr><th></th><th scope=col>&lt;fct&gt;</th><th scope=col>&lt;dbl&gt;</th><th scope=col>&lt;dbl&gt;</th></tr>\n",
       "</thead>\n",
       "<tbody>\n",
       "\t<tr><th scope=row>9</th><td>Playgreen     </td><td>217</td><td>  657</td></tr>\n",
       "\t<tr><th scope=row>8</th><td>Cross         </td><td>207</td><td>  755</td></tr>\n",
       "\t<tr><th scope=row>7</th><td>Gods          </td><td>178</td><td> 1151</td></tr>\n",
       "\t<tr><th scope=row>6</th><td>Island        </td><td>227</td><td> 1223</td></tr>\n",
       "\t<tr><th scope=row>5</th><td>Cedar         </td><td>253</td><td> 1353</td></tr>\n",
       "\t<tr><th scope=row>4</th><td>SouthernIndian</td><td>254</td><td> 2247</td></tr>\n",
       "\t<tr><th scope=row>3</th><td>Manitoba      </td><td>248</td><td> 4624</td></tr>\n",
       "\t<tr><th scope=row>2</th><td>Winnipegosis  </td><td>254</td><td> 5374</td></tr>\n",
       "\t<tr><th scope=row>1</th><td>Winnipeg      </td><td>217</td><td>24387</td></tr>\n",
       "</tbody>\n",
       "</table>\n"
      ],
      "text/latex": [
       "A data.frame: 9 × 3\n",
       "\\begin{tabular}{r|lll}\n",
       "  & lakes\\_names & elevations & areas\\\\\n",
       "  & <fct> & <dbl> & <dbl>\\\\\n",
       "\\hline\n",
       "\t9 & Playgreen      & 217 &   657\\\\\n",
       "\t8 & Cross          & 207 &   755\\\\\n",
       "\t7 & Gods           & 178 &  1151\\\\\n",
       "\t6 & Island         & 227 &  1223\\\\\n",
       "\t5 & Cedar          & 253 &  1353\\\\\n",
       "\t4 & SouthernIndian & 254 &  2247\\\\\n",
       "\t3 & Manitoba       & 248 &  4624\\\\\n",
       "\t2 & Winnipegosis   & 254 &  5374\\\\\n",
       "\t1 & Winnipeg       & 217 & 24387\\\\\n",
       "\\end{tabular}\n"
      ],
      "text/markdown": [
       "\n",
       "A data.frame: 9 × 3\n",
       "\n",
       "| <!--/--> | lakes_names &lt;fct&gt; | elevations &lt;dbl&gt; | areas &lt;dbl&gt; |\n",
       "|---|---|---|---|\n",
       "| 9 | Playgreen      | 217 |   657 |\n",
       "| 8 | Cross          | 207 |   755 |\n",
       "| 7 | Gods           | 178 |  1151 |\n",
       "| 6 | Island         | 227 |  1223 |\n",
       "| 5 | Cedar          | 253 |  1353 |\n",
       "| 4 | SouthernIndian | 254 |  2247 |\n",
       "| 3 | Manitoba       | 248 |  4624 |\n",
       "| 2 | Winnipegosis   | 254 |  5374 |\n",
       "| 1 | Winnipeg       | 217 | 24387 |\n",
       "\n"
      ],
      "text/plain": [
       "  lakes_names    elevations areas\n",
       "9 Playgreen      217          657\n",
       "8 Cross          207          755\n",
       "7 Gods           178         1151\n",
       "6 Island         227         1223\n",
       "5 Cedar          253         1353\n",
       "4 SouthernIndian 254         2247\n",
       "3 Manitoba       248         4624\n",
       "2 Winnipegosis   254         5374\n",
       "1 Winnipeg       217        24387"
      ]
     },
     "metadata": {},
     "output_type": "display_data"
    }
   ],
   "source": [
    "manitoba.lakes[with(manitoba.lakes, order(areas)),]"
   ]
  },
  {
   "cell_type": "code",
   "execution_count": 4,
   "metadata": {},
   "outputs": [
    {
     "data": {
      "text/html": [
       "<table>\n",
       "<caption>A data.frame: 2 × 3</caption>\n",
       "<thead>\n",
       "\t<tr><th scope=col>lakes_names</th><th scope=col>elevations</th><th scope=col>areas</th></tr>\n",
       "\t<tr><th scope=col>&lt;fct&gt;</th><th scope=col>&lt;dbl&gt;</th><th scope=col>&lt;dbl&gt;</th></tr>\n",
       "</thead>\n",
       "<tbody>\n",
       "\t<tr><td>Winnipeg    </td><td>217</td><td>24387</td></tr>\n",
       "\t<tr><td>Winnipegosis</td><td>254</td><td> 5374</td></tr>\n",
       "</tbody>\n",
       "</table>\n"
      ],
      "text/latex": [
       "A data.frame: 2 × 3\n",
       "\\begin{tabular}{r|lll}\n",
       " lakes\\_names & elevations & areas\\\\\n",
       " <fct> & <dbl> & <dbl>\\\\\n",
       "\\hline\n",
       "\t Winnipeg     & 217 & 24387\\\\\n",
       "\t Winnipegosis & 254 &  5374\\\\\n",
       "\\end{tabular}\n"
      ],
      "text/markdown": [
       "\n",
       "A data.frame: 2 × 3\n",
       "\n",
       "| lakes_names &lt;fct&gt; | elevations &lt;dbl&gt; | areas &lt;dbl&gt; |\n",
       "|---|---|---|\n",
       "| Winnipeg     | 217 | 24387 |\n",
       "| Winnipegosis | 254 |  5374 |\n",
       "\n"
      ],
      "text/plain": [
       "  lakes_names  elevations areas\n",
       "1 Winnipeg     217        24387\n",
       "2 Winnipegosis 254         5374"
      ]
     },
     "metadata": {},
     "output_type": "display_data"
    }
   ],
   "source": [
    "head(manitoba.lakes, 2)"
   ]
  },
  {
   "cell_type": "markdown",
   "metadata": {},
   "source": [
    "##### 3"
   ]
  },
  {
   "cell_type": "code",
   "execution_count": 5,
   "metadata": {},
   "outputs": [
    {
     "data": {
      "text/html": [
       "41771"
      ],
      "text/latex": [
       "41771"
      ],
      "text/markdown": [
       "41771"
      ],
      "text/plain": [
       "[1] 41771"
      ]
     },
     "metadata": {},
     "output_type": "display_data"
    }
   ],
   "source": [
    "sum(manitoba.lakes$areas)"
   ]
  },
  {
   "cell_type": "markdown",
   "metadata": {},
   "source": [
    "## Exercise 2"
   ]
  },
  {
   "cell_type": "code",
   "execution_count": 6,
   "metadata": {},
   "outputs": [
    {
     "name": "stderr",
     "output_type": "stream",
     "text": [
      "Installing package into ‘/home/guida/R/x86_64-pc-linux-gnu-library/3.6’\n",
      "(as ‘lib’ is unspecified)\n",
      "also installing the dependency ‘latticeExtra’\n",
      "\n",
      "Loading required package: lattice\n"
     ]
    }
   ],
   "source": [
    "install.packages(c(\"DAAG\"),type=\"source\")\n",
    "library(DAAG)\n",
    "data(ais)"
   ]
  },
  {
   "cell_type": "code",
   "execution_count": 7,
   "metadata": {},
   "outputs": [],
   "source": [
    "?ais"
   ]
  },
  {
   "cell_type": "code",
   "execution_count": 8,
   "metadata": {},
   "outputs": [
    {
     "data": {
      "text/html": [
       "<table>\n",
       "<caption>A data.frame: 202 × 13</caption>\n",
       "<thead>\n",
       "\t<tr><th scope=col>rcc</th><th scope=col>wcc</th><th scope=col>hc</th><th scope=col>hg</th><th scope=col>ferr</th><th scope=col>bmi</th><th scope=col>ssf</th><th scope=col>pcBfat</th><th scope=col>lbm</th><th scope=col>ht</th><th scope=col>wt</th><th scope=col>sex</th><th scope=col>sport</th></tr>\n",
       "\t<tr><th scope=col>&lt;dbl&gt;</th><th scope=col>&lt;dbl&gt;</th><th scope=col>&lt;dbl&gt;</th><th scope=col>&lt;dbl&gt;</th><th scope=col>&lt;dbl&gt;</th><th scope=col>&lt;dbl&gt;</th><th scope=col>&lt;dbl&gt;</th><th scope=col>&lt;dbl&gt;</th><th scope=col>&lt;dbl&gt;</th><th scope=col>&lt;dbl&gt;</th><th scope=col>&lt;dbl&gt;</th><th scope=col>&lt;fct&gt;</th><th scope=col>&lt;fct&gt;</th></tr>\n",
       "</thead>\n",
       "<tbody>\n",
       "\t<tr><td>3.96</td><td>7.5</td><td>37.5</td><td>12.3</td><td>60</td><td>20.56</td><td>109.1</td><td>19.75</td><td>63.32</td><td>195.9</td><td>78.9</td><td>f</td><td>B_Ball</td></tr>\n",
       "\t<tr><td>4.41</td><td>8.3</td><td>38.2</td><td>12.7</td><td>68</td><td>20.67</td><td>102.8</td><td>21.30</td><td>58.55</td><td>189.7</td><td>74.4</td><td>f</td><td>B_Ball</td></tr>\n",
       "\t<tr><td>4.14</td><td>5.0</td><td>36.4</td><td>11.6</td><td>21</td><td>21.86</td><td>104.6</td><td>19.88</td><td>55.36</td><td>177.8</td><td>69.1</td><td>f</td><td>B_Ball</td></tr>\n",
       "\t<tr><td>4.11</td><td>5.3</td><td>37.3</td><td>12.6</td><td>69</td><td>21.88</td><td>126.4</td><td>23.66</td><td>57.18</td><td>185.0</td><td>74.9</td><td>f</td><td>B_Ball</td></tr>\n",
       "\t<tr><td>4.45</td><td>6.8</td><td>41.5</td><td>14.0</td><td>29</td><td>18.96</td><td> 80.3</td><td>17.64</td><td>53.20</td><td>184.6</td><td>64.6</td><td>f</td><td>B_Ball</td></tr>\n",
       "\t<tr><td>4.10</td><td>4.4</td><td>37.4</td><td>12.5</td><td>42</td><td>21.04</td><td> 75.2</td><td>15.58</td><td>53.77</td><td>174.0</td><td>63.7</td><td>f</td><td>B_Ball</td></tr>\n",
       "\t<tr><td>4.31</td><td>5.3</td><td>39.6</td><td>12.8</td><td>73</td><td>21.69</td><td> 87.2</td><td>19.99</td><td>60.17</td><td>186.2</td><td>75.2</td><td>f</td><td>B_Ball</td></tr>\n",
       "\t<tr><td>4.42</td><td>5.7</td><td>39.9</td><td>13.2</td><td>44</td><td>20.62</td><td> 97.9</td><td>22.43</td><td>48.33</td><td>173.8</td><td>62.3</td><td>f</td><td>B_Ball</td></tr>\n",
       "\t<tr><td>4.30</td><td>8.9</td><td>41.1</td><td>13.5</td><td>41</td><td>22.64</td><td> 75.1</td><td>17.95</td><td>54.57</td><td>171.4</td><td>66.5</td><td>f</td><td>B_Ball</td></tr>\n",
       "\t<tr><td>4.51</td><td>4.4</td><td>41.6</td><td>12.7</td><td>44</td><td>19.44</td><td> 65.1</td><td>15.07</td><td>53.42</td><td>179.9</td><td>62.9</td><td>f</td><td>B_Ball</td></tr>\n",
       "\t<tr><td>4.71</td><td>5.3</td><td>41.4</td><td>14.0</td><td>38</td><td>25.75</td><td>171.1</td><td>28.83</td><td>68.53</td><td>193.4</td><td>96.3</td><td>f</td><td>B_Ball</td></tr>\n",
       "\t<tr><td>4.62</td><td>7.3</td><td>43.8</td><td>14.7</td><td>26</td><td>21.20</td><td> 76.8</td><td>18.08</td><td>61.85</td><td>188.7</td><td>75.5</td><td>f</td><td>B_Ball</td></tr>\n",
       "\t<tr><td>4.35</td><td>7.8</td><td>41.4</td><td>14.1</td><td>30</td><td>22.03</td><td>117.8</td><td>23.30</td><td>48.32</td><td>169.1</td><td>63.0</td><td>f</td><td>B_Ball</td></tr>\n",
       "\t<tr><td>4.26</td><td>6.2</td><td>41.0</td><td>13.9</td><td>48</td><td>25.44</td><td> 90.2</td><td>17.71</td><td>66.24</td><td>177.9</td><td>80.5</td><td>f</td><td>Row   </td></tr>\n",
       "\t<tr><td>4.63</td><td>6.0</td><td>43.7</td><td>14.7</td><td>30</td><td>22.63</td><td> 97.2</td><td>18.77</td><td>57.92</td><td>177.5</td><td>71.3</td><td>f</td><td>Row   </td></tr>\n",
       "\t<tr><td>4.36</td><td>5.8</td><td>40.3</td><td>13.3</td><td>29</td><td>21.86</td><td> 99.9</td><td>19.83</td><td>56.52</td><td>179.6</td><td>70.5</td><td>f</td><td>Row   </td></tr>\n",
       "\t<tr><td>3.91</td><td>7.3</td><td>37.6</td><td>12.9</td><td>43</td><td>22.27</td><td>125.9</td><td>25.16</td><td>54.78</td><td>181.3</td><td>73.2</td><td>f</td><td>Row   </td></tr>\n",
       "\t<tr><td>4.51</td><td>8.3</td><td>43.7</td><td>14.7</td><td>34</td><td>21.27</td><td> 69.9</td><td>18.04</td><td>56.31</td><td>179.7</td><td>68.7</td><td>f</td><td>Row   </td></tr>\n",
       "\t<tr><td>4.37</td><td>8.1</td><td>41.8</td><td>14.3</td><td>53</td><td>23.47</td><td> 98.0</td><td>21.79</td><td>62.96</td><td>185.2</td><td>80.5</td><td>f</td><td>Row   </td></tr>\n",
       "\t<tr><td>4.90</td><td>6.9</td><td>44.0</td><td>14.5</td><td>59</td><td>23.19</td><td> 96.8</td><td>22.25</td><td>56.68</td><td>177.3</td><td>72.9</td><td>f</td><td>Row   </td></tr>\n",
       "\t<tr><td>4.46</td><td>5.7</td><td>39.2</td><td>13.0</td><td>43</td><td>23.17</td><td> 80.3</td><td>16.25</td><td>62.39</td><td>179.3</td><td>74.5</td><td>f</td><td>Row   </td></tr>\n",
       "\t<tr><td>3.95</td><td>3.3</td><td>36.9</td><td>12.5</td><td>40</td><td>24.54</td><td> 74.9</td><td>16.38</td><td>63.05</td><td>175.3</td><td>75.4</td><td>f</td><td>Row   </td></tr>\n",
       "\t<tr><td>4.46</td><td>9.5</td><td>41.5</td><td>14.5</td><td>92</td><td>22.96</td><td> 83.0</td><td>19.35</td><td>56.05</td><td>174.0</td><td>69.5</td><td>f</td><td>Row   </td></tr>\n",
       "\t<tr><td>5.02</td><td>6.4</td><td>44.8</td><td>15.2</td><td>48</td><td>19.76</td><td> 91.0</td><td>19.20</td><td>53.65</td><td>183.3</td><td>66.4</td><td>f</td><td>Row   </td></tr>\n",
       "\t<tr><td>4.26</td><td>5.8</td><td>41.2</td><td>14.1</td><td>77</td><td>23.36</td><td> 76.2</td><td>17.89</td><td>65.45</td><td>184.7</td><td>79.7</td><td>f</td><td>Row   </td></tr>\n",
       "\t<tr><td>4.46</td><td>5.6</td><td>41.1</td><td>14.3</td><td>71</td><td>22.67</td><td> 52.6</td><td>12.20</td><td>64.62</td><td>180.2</td><td>73.6</td><td>f</td><td>Row   </td></tr>\n",
       "\t<tr><td>4.16</td><td>5.8</td><td>39.8</td><td>13.3</td><td>37</td><td>24.24</td><td>111.1</td><td>23.70</td><td>60.05</td><td>180.2</td><td>78.7</td><td>f</td><td>Row   </td></tr>\n",
       "\t<tr><td>4.49</td><td>7.6</td><td>41.8</td><td>14.4</td><td>71</td><td>24.21</td><td>110.7</td><td>24.69</td><td>56.48</td><td>176.0</td><td>75.0</td><td>f</td><td>Row   </td></tr>\n",
       "\t<tr><td>4.21</td><td>7.5</td><td>38.4</td><td>13.2</td><td>73</td><td>20.46</td><td> 74.7</td><td>16.58</td><td>41.54</td><td>156.0</td><td>49.8</td><td>f</td><td>Row   </td></tr>\n",
       "\t<tr><td>4.57</td><td>6.6</td><td>42.8</td><td>14.5</td><td>85</td><td>20.81</td><td>113.5</td><td>21.47</td><td>52.78</td><td>179.7</td><td>67.2</td><td>f</td><td>Row   </td></tr>\n",
       "\t<tr><td>⋮</td><td>⋮</td><td>⋮</td><td>⋮</td><td>⋮</td><td>⋮</td><td>⋮</td><td>⋮</td><td>⋮</td><td>⋮</td><td>⋮</td><td>⋮</td><td>⋮</td></tr>\n",
       "\t<tr><td>5.49</td><td> 5.9</td><td>47.7</td><td>15.9</td><td> 66</td><td>22.28</td><td> 48.0</td><td> 8.84</td><td>65</td><td>178.5</td><td> 71.0</td><td>m</td><td>T_400m </td></tr>\n",
       "\t<tr><td>5.59</td><td> 7.9</td><td>49.7</td><td>17.2</td><td>220</td><td>23.55</td><td> 41.9</td><td> 8.94</td><td>63</td><td>171.3</td><td> 69.1</td><td>m</td><td>T_Sprnt</td></tr>\n",
       "\t<tr><td>5.03</td><td> 6.6</td><td>44.7</td><td>15.9</td><td>191</td><td>19.85</td><td> 30.9</td><td> 6.53</td><td>59</td><td>178.0</td><td> 62.9</td><td>m</td><td>T_400m </td></tr>\n",
       "\t<tr><td>5.50</td><td> 6.4</td><td>48.1</td><td>16.5</td><td> 40</td><td>26.51</td><td> 52.8</td><td> 9.40</td><td>86</td><td>189.1</td><td> 94.8</td><td>m</td><td>T_Sprnt</td></tr>\n",
       "\t<tr><td>5.11</td><td> 9.3</td><td>45.4</td><td>15.8</td><td>189</td><td>24.78</td><td> 43.2</td><td> 8.18</td><td>87</td><td>195.4</td><td> 94.6</td><td>m</td><td>Field  </td></tr>\n",
       "\t<tr><td>4.96</td><td> 8.3</td><td>45.3</td><td>15.7</td><td>141</td><td>33.73</td><td>113.5</td><td>17.41</td><td>89</td><td>179.1</td><td>108.2</td><td>m</td><td>Field  </td></tr>\n",
       "\t<tr><td>5.01</td><td> 8.9</td><td>46.0</td><td>15.9</td><td>212</td><td>30.18</td><td> 96.9</td><td>18.08</td><td>80</td><td>180.1</td><td> 97.9</td><td>m</td><td>Field  </td></tr>\n",
       "\t<tr><td>5.11</td><td> 8.7</td><td>46.5</td><td>16.3</td><td> 97</td><td>23.31</td><td> 49.3</td><td> 9.86</td><td>68</td><td>179.6</td><td> 75.2</td><td>m</td><td>Field  </td></tr>\n",
       "\t<tr><td>5.69</td><td>10.8</td><td>50.5</td><td>18.5</td><td> 53</td><td>24.51</td><td> 42.3</td><td> 7.29</td><td>69</td><td>174.7</td><td> 74.8</td><td>m</td><td>T_Sprnt</td></tr>\n",
       "\t<tr><td>4.63</td><td> 9.1</td><td>42.1</td><td>14.4</td><td>126</td><td>25.37</td><td> 96.3</td><td>18.72</td><td>77</td><td>192.7</td><td> 94.2</td><td>m</td><td>W_Polo </td></tr>\n",
       "\t<tr><td>4.91</td><td>10.2</td><td>45.0</td><td>15.2</td><td>234</td><td>23.67</td><td> 56.5</td><td>10.12</td><td>68</td><td>179.3</td><td> 76.1</td><td>m</td><td>W_Polo </td></tr>\n",
       "\t<tr><td>4.95</td><td> 7.5</td><td>44.5</td><td>15.0</td><td> 50</td><td>24.28</td><td>105.7</td><td>19.17</td><td>77</td><td>197.5</td><td> 94.7</td><td>m</td><td>W_Polo </td></tr>\n",
       "\t<tr><td>5.34</td><td>10.0</td><td>46.8</td><td>16.2</td><td> 94</td><td>25.82</td><td>100.7</td><td>17.24</td><td>71</td><td>182.7</td><td> 86.2</td><td>m</td><td>W_Polo </td></tr>\n",
       "\t<tr><td>5.16</td><td>12.9</td><td>47.6</td><td>15.6</td><td>156</td><td>21.93</td><td> 56.8</td><td> 9.89</td><td>72</td><td>190.5</td><td> 79.6</td><td>m</td><td>W_Polo </td></tr>\n",
       "\t<tr><td>5.29</td><td>12.7</td><td>48.0</td><td>16.2</td><td>124</td><td>23.38</td><td> 75.9</td><td>13.06</td><td>74</td><td>191.0</td><td> 85.3</td><td>m</td><td>W_Polo </td></tr>\n",
       "\t<tr><td>5.02</td><td> 6.1</td><td>43.6</td><td>14.8</td><td> 87</td><td>23.07</td><td> 52.8</td><td> 8.84</td><td>68</td><td>179.6</td><td> 74.4</td><td>m</td><td>W_Polo </td></tr>\n",
       "\t<tr><td>5.01</td><td> 9.8</td><td>46.5</td><td>15.8</td><td> 97</td><td>25.21</td><td> 47.8</td><td> 8.87</td><td>85</td><td>192.6</td><td> 93.5</td><td>m</td><td>W_Polo </td></tr>\n",
       "\t<tr><td>5.03</td><td> 7.5</td><td>43.6</td><td>14.4</td><td>102</td><td>23.25</td><td> 76.0</td><td>14.69</td><td>75</td><td>194.1</td><td> 87.6</td><td>m</td><td>W_Polo </td></tr>\n",
       "\t<tr><td>5.25</td><td> 7.4</td><td>47.3</td><td>15.8</td><td> 55</td><td>22.93</td><td> 61.2</td><td> 8.64</td><td>78</td><td>193.0</td><td> 85.4</td><td>m</td><td>W_Polo </td></tr>\n",
       "\t<tr><td>5.08</td><td> 8.5</td><td>46.3</td><td>15.6</td><td>117</td><td>26.86</td><td> 75.6</td><td>14.98</td><td>86</td><td>193.9</td><td>101.0</td><td>m</td><td>W_Polo </td></tr>\n",
       "\t<tr><td>5.04</td><td> 6.0</td><td>45.9</td><td>15.0</td><td> 52</td><td>21.26</td><td> 43.3</td><td> 7.82</td><td>69</td><td>187.7</td><td> 74.9</td><td>m</td><td>W_Polo </td></tr>\n",
       "\t<tr><td>4.63</td><td>14.3</td><td>44.8</td><td>15.0</td><td>133</td><td>25.43</td><td> 49.5</td><td> 8.97</td><td>79</td><td>185.3</td><td> 87.3</td><td>m</td><td>W_Polo </td></tr>\n",
       "\t<tr><td>5.11</td><td> 7.0</td><td>47.7</td><td>15.8</td><td>214</td><td>24.54</td><td> 70.0</td><td>11.63</td><td>80</td><td>191.5</td><td> 90.0</td><td>m</td><td>W_Polo </td></tr>\n",
       "\t<tr><td>5.34</td><td> 6.2</td><td>49.8</td><td>17.2</td><td>143</td><td>27.79</td><td> 75.7</td><td>13.49</td><td>82</td><td>184.6</td><td> 94.7</td><td>m</td><td>W_Polo </td></tr>\n",
       "\t<tr><td>4.86</td><td> 8.9</td><td>46.9</td><td>15.8</td><td> 65</td><td>23.58</td><td> 57.7</td><td>10.25</td><td>68</td><td>179.9</td><td> 76.3</td><td>m</td><td>W_Polo </td></tr>\n",
       "\t<tr><td>4.90</td><td> 7.6</td><td>45.6</td><td>16.0</td><td> 90</td><td>27.56</td><td> 67.2</td><td>11.79</td><td>82</td><td>183.9</td><td> 93.2</td><td>m</td><td>W_Polo </td></tr>\n",
       "\t<tr><td>5.66</td><td> 8.3</td><td>50.2</td><td>17.7</td><td> 38</td><td>23.76</td><td> 56.5</td><td>10.05</td><td>72</td><td>183.5</td><td> 80.0</td><td>m</td><td>Tennis </td></tr>\n",
       "\t<tr><td>5.03</td><td> 6.4</td><td>42.7</td><td>14.3</td><td>122</td><td>22.01</td><td> 47.6</td><td> 8.51</td><td>68</td><td>183.1</td><td> 73.8</td><td>m</td><td>Tennis </td></tr>\n",
       "\t<tr><td>4.97</td><td> 8.8</td><td>43.0</td><td>14.9</td><td>233</td><td>22.34</td><td> 60.4</td><td>11.50</td><td>63</td><td>178.4</td><td> 71.1</td><td>m</td><td>Tennis </td></tr>\n",
       "\t<tr><td>5.38</td><td> 6.3</td><td>46.0</td><td>15.7</td><td> 32</td><td>21.07</td><td> 34.9</td><td> 6.26</td><td>72</td><td>190.8</td><td> 76.7</td><td>m</td><td>Tennis </td></tr>\n",
       "</tbody>\n",
       "</table>\n"
      ],
      "text/latex": [
       "A data.frame: 202 × 13\n",
       "\\begin{tabular}{r|lllllllllllll}\n",
       " rcc & wcc & hc & hg & ferr & bmi & ssf & pcBfat & lbm & ht & wt & sex & sport\\\\\n",
       " <dbl> & <dbl> & <dbl> & <dbl> & <dbl> & <dbl> & <dbl> & <dbl> & <dbl> & <dbl> & <dbl> & <fct> & <fct>\\\\\n",
       "\\hline\n",
       "\t 3.96 & 7.5 & 37.5 & 12.3 & 60 & 20.56 & 109.1 & 19.75 & 63.32 & 195.9 & 78.9 & f & B\\_Ball\\\\\n",
       "\t 4.41 & 8.3 & 38.2 & 12.7 & 68 & 20.67 & 102.8 & 21.30 & 58.55 & 189.7 & 74.4 & f & B\\_Ball\\\\\n",
       "\t 4.14 & 5.0 & 36.4 & 11.6 & 21 & 21.86 & 104.6 & 19.88 & 55.36 & 177.8 & 69.1 & f & B\\_Ball\\\\\n",
       "\t 4.11 & 5.3 & 37.3 & 12.6 & 69 & 21.88 & 126.4 & 23.66 & 57.18 & 185.0 & 74.9 & f & B\\_Ball\\\\\n",
       "\t 4.45 & 6.8 & 41.5 & 14.0 & 29 & 18.96 &  80.3 & 17.64 & 53.20 & 184.6 & 64.6 & f & B\\_Ball\\\\\n",
       "\t 4.10 & 4.4 & 37.4 & 12.5 & 42 & 21.04 &  75.2 & 15.58 & 53.77 & 174.0 & 63.7 & f & B\\_Ball\\\\\n",
       "\t 4.31 & 5.3 & 39.6 & 12.8 & 73 & 21.69 &  87.2 & 19.99 & 60.17 & 186.2 & 75.2 & f & B\\_Ball\\\\\n",
       "\t 4.42 & 5.7 & 39.9 & 13.2 & 44 & 20.62 &  97.9 & 22.43 & 48.33 & 173.8 & 62.3 & f & B\\_Ball\\\\\n",
       "\t 4.30 & 8.9 & 41.1 & 13.5 & 41 & 22.64 &  75.1 & 17.95 & 54.57 & 171.4 & 66.5 & f & B\\_Ball\\\\\n",
       "\t 4.51 & 4.4 & 41.6 & 12.7 & 44 & 19.44 &  65.1 & 15.07 & 53.42 & 179.9 & 62.9 & f & B\\_Ball\\\\\n",
       "\t 4.71 & 5.3 & 41.4 & 14.0 & 38 & 25.75 & 171.1 & 28.83 & 68.53 & 193.4 & 96.3 & f & B\\_Ball\\\\\n",
       "\t 4.62 & 7.3 & 43.8 & 14.7 & 26 & 21.20 &  76.8 & 18.08 & 61.85 & 188.7 & 75.5 & f & B\\_Ball\\\\\n",
       "\t 4.35 & 7.8 & 41.4 & 14.1 & 30 & 22.03 & 117.8 & 23.30 & 48.32 & 169.1 & 63.0 & f & B\\_Ball\\\\\n",
       "\t 4.26 & 6.2 & 41.0 & 13.9 & 48 & 25.44 &  90.2 & 17.71 & 66.24 & 177.9 & 80.5 & f & Row   \\\\\n",
       "\t 4.63 & 6.0 & 43.7 & 14.7 & 30 & 22.63 &  97.2 & 18.77 & 57.92 & 177.5 & 71.3 & f & Row   \\\\\n",
       "\t 4.36 & 5.8 & 40.3 & 13.3 & 29 & 21.86 &  99.9 & 19.83 & 56.52 & 179.6 & 70.5 & f & Row   \\\\\n",
       "\t 3.91 & 7.3 & 37.6 & 12.9 & 43 & 22.27 & 125.9 & 25.16 & 54.78 & 181.3 & 73.2 & f & Row   \\\\\n",
       "\t 4.51 & 8.3 & 43.7 & 14.7 & 34 & 21.27 &  69.9 & 18.04 & 56.31 & 179.7 & 68.7 & f & Row   \\\\\n",
       "\t 4.37 & 8.1 & 41.8 & 14.3 & 53 & 23.47 &  98.0 & 21.79 & 62.96 & 185.2 & 80.5 & f & Row   \\\\\n",
       "\t 4.90 & 6.9 & 44.0 & 14.5 & 59 & 23.19 &  96.8 & 22.25 & 56.68 & 177.3 & 72.9 & f & Row   \\\\\n",
       "\t 4.46 & 5.7 & 39.2 & 13.0 & 43 & 23.17 &  80.3 & 16.25 & 62.39 & 179.3 & 74.5 & f & Row   \\\\\n",
       "\t 3.95 & 3.3 & 36.9 & 12.5 & 40 & 24.54 &  74.9 & 16.38 & 63.05 & 175.3 & 75.4 & f & Row   \\\\\n",
       "\t 4.46 & 9.5 & 41.5 & 14.5 & 92 & 22.96 &  83.0 & 19.35 & 56.05 & 174.0 & 69.5 & f & Row   \\\\\n",
       "\t 5.02 & 6.4 & 44.8 & 15.2 & 48 & 19.76 &  91.0 & 19.20 & 53.65 & 183.3 & 66.4 & f & Row   \\\\\n",
       "\t 4.26 & 5.8 & 41.2 & 14.1 & 77 & 23.36 &  76.2 & 17.89 & 65.45 & 184.7 & 79.7 & f & Row   \\\\\n",
       "\t 4.46 & 5.6 & 41.1 & 14.3 & 71 & 22.67 &  52.6 & 12.20 & 64.62 & 180.2 & 73.6 & f & Row   \\\\\n",
       "\t 4.16 & 5.8 & 39.8 & 13.3 & 37 & 24.24 & 111.1 & 23.70 & 60.05 & 180.2 & 78.7 & f & Row   \\\\\n",
       "\t 4.49 & 7.6 & 41.8 & 14.4 & 71 & 24.21 & 110.7 & 24.69 & 56.48 & 176.0 & 75.0 & f & Row   \\\\\n",
       "\t 4.21 & 7.5 & 38.4 & 13.2 & 73 & 20.46 &  74.7 & 16.58 & 41.54 & 156.0 & 49.8 & f & Row   \\\\\n",
       "\t 4.57 & 6.6 & 42.8 & 14.5 & 85 & 20.81 & 113.5 & 21.47 & 52.78 & 179.7 & 67.2 & f & Row   \\\\\n",
       "\t ⋮ & ⋮ & ⋮ & ⋮ & ⋮ & ⋮ & ⋮ & ⋮ & ⋮ & ⋮ & ⋮ & ⋮ & ⋮\\\\\n",
       "\t 5.49 &  5.9 & 47.7 & 15.9 &  66 & 22.28 &  48.0 &  8.84 & 65 & 178.5 &  71.0 & m & T\\_400m \\\\\n",
       "\t 5.59 &  7.9 & 49.7 & 17.2 & 220 & 23.55 &  41.9 &  8.94 & 63 & 171.3 &  69.1 & m & T\\_Sprnt\\\\\n",
       "\t 5.03 &  6.6 & 44.7 & 15.9 & 191 & 19.85 &  30.9 &  6.53 & 59 & 178.0 &  62.9 & m & T\\_400m \\\\\n",
       "\t 5.50 &  6.4 & 48.1 & 16.5 &  40 & 26.51 &  52.8 &  9.40 & 86 & 189.1 &  94.8 & m & T\\_Sprnt\\\\\n",
       "\t 5.11 &  9.3 & 45.4 & 15.8 & 189 & 24.78 &  43.2 &  8.18 & 87 & 195.4 &  94.6 & m & Field  \\\\\n",
       "\t 4.96 &  8.3 & 45.3 & 15.7 & 141 & 33.73 & 113.5 & 17.41 & 89 & 179.1 & 108.2 & m & Field  \\\\\n",
       "\t 5.01 &  8.9 & 46.0 & 15.9 & 212 & 30.18 &  96.9 & 18.08 & 80 & 180.1 &  97.9 & m & Field  \\\\\n",
       "\t 5.11 &  8.7 & 46.5 & 16.3 &  97 & 23.31 &  49.3 &  9.86 & 68 & 179.6 &  75.2 & m & Field  \\\\\n",
       "\t 5.69 & 10.8 & 50.5 & 18.5 &  53 & 24.51 &  42.3 &  7.29 & 69 & 174.7 &  74.8 & m & T\\_Sprnt\\\\\n",
       "\t 4.63 &  9.1 & 42.1 & 14.4 & 126 & 25.37 &  96.3 & 18.72 & 77 & 192.7 &  94.2 & m & W\\_Polo \\\\\n",
       "\t 4.91 & 10.2 & 45.0 & 15.2 & 234 & 23.67 &  56.5 & 10.12 & 68 & 179.3 &  76.1 & m & W\\_Polo \\\\\n",
       "\t 4.95 &  7.5 & 44.5 & 15.0 &  50 & 24.28 & 105.7 & 19.17 & 77 & 197.5 &  94.7 & m & W\\_Polo \\\\\n",
       "\t 5.34 & 10.0 & 46.8 & 16.2 &  94 & 25.82 & 100.7 & 17.24 & 71 & 182.7 &  86.2 & m & W\\_Polo \\\\\n",
       "\t 5.16 & 12.9 & 47.6 & 15.6 & 156 & 21.93 &  56.8 &  9.89 & 72 & 190.5 &  79.6 & m & W\\_Polo \\\\\n",
       "\t 5.29 & 12.7 & 48.0 & 16.2 & 124 & 23.38 &  75.9 & 13.06 & 74 & 191.0 &  85.3 & m & W\\_Polo \\\\\n",
       "\t 5.02 &  6.1 & 43.6 & 14.8 &  87 & 23.07 &  52.8 &  8.84 & 68 & 179.6 &  74.4 & m & W\\_Polo \\\\\n",
       "\t 5.01 &  9.8 & 46.5 & 15.8 &  97 & 25.21 &  47.8 &  8.87 & 85 & 192.6 &  93.5 & m & W\\_Polo \\\\\n",
       "\t 5.03 &  7.5 & 43.6 & 14.4 & 102 & 23.25 &  76.0 & 14.69 & 75 & 194.1 &  87.6 & m & W\\_Polo \\\\\n",
       "\t 5.25 &  7.4 & 47.3 & 15.8 &  55 & 22.93 &  61.2 &  8.64 & 78 & 193.0 &  85.4 & m & W\\_Polo \\\\\n",
       "\t 5.08 &  8.5 & 46.3 & 15.6 & 117 & 26.86 &  75.6 & 14.98 & 86 & 193.9 & 101.0 & m & W\\_Polo \\\\\n",
       "\t 5.04 &  6.0 & 45.9 & 15.0 &  52 & 21.26 &  43.3 &  7.82 & 69 & 187.7 &  74.9 & m & W\\_Polo \\\\\n",
       "\t 4.63 & 14.3 & 44.8 & 15.0 & 133 & 25.43 &  49.5 &  8.97 & 79 & 185.3 &  87.3 & m & W\\_Polo \\\\\n",
       "\t 5.11 &  7.0 & 47.7 & 15.8 & 214 & 24.54 &  70.0 & 11.63 & 80 & 191.5 &  90.0 & m & W\\_Polo \\\\\n",
       "\t 5.34 &  6.2 & 49.8 & 17.2 & 143 & 27.79 &  75.7 & 13.49 & 82 & 184.6 &  94.7 & m & W\\_Polo \\\\\n",
       "\t 4.86 &  8.9 & 46.9 & 15.8 &  65 & 23.58 &  57.7 & 10.25 & 68 & 179.9 &  76.3 & m & W\\_Polo \\\\\n",
       "\t 4.90 &  7.6 & 45.6 & 16.0 &  90 & 27.56 &  67.2 & 11.79 & 82 & 183.9 &  93.2 & m & W\\_Polo \\\\\n",
       "\t 5.66 &  8.3 & 50.2 & 17.7 &  38 & 23.76 &  56.5 & 10.05 & 72 & 183.5 &  80.0 & m & Tennis \\\\\n",
       "\t 5.03 &  6.4 & 42.7 & 14.3 & 122 & 22.01 &  47.6 &  8.51 & 68 & 183.1 &  73.8 & m & Tennis \\\\\n",
       "\t 4.97 &  8.8 & 43.0 & 14.9 & 233 & 22.34 &  60.4 & 11.50 & 63 & 178.4 &  71.1 & m & Tennis \\\\\n",
       "\t 5.38 &  6.3 & 46.0 & 15.7 &  32 & 21.07 &  34.9 &  6.26 & 72 & 190.8 &  76.7 & m & Tennis \\\\\n",
       "\\end{tabular}\n"
      ],
      "text/markdown": [
       "\n",
       "A data.frame: 202 × 13\n",
       "\n",
       "| rcc &lt;dbl&gt; | wcc &lt;dbl&gt; | hc &lt;dbl&gt; | hg &lt;dbl&gt; | ferr &lt;dbl&gt; | bmi &lt;dbl&gt; | ssf &lt;dbl&gt; | pcBfat &lt;dbl&gt; | lbm &lt;dbl&gt; | ht &lt;dbl&gt; | wt &lt;dbl&gt; | sex &lt;fct&gt; | sport &lt;fct&gt; |\n",
       "|---|---|---|---|---|---|---|---|---|---|---|---|---|\n",
       "| 3.96 | 7.5 | 37.5 | 12.3 | 60 | 20.56 | 109.1 | 19.75 | 63.32 | 195.9 | 78.9 | f | B_Ball |\n",
       "| 4.41 | 8.3 | 38.2 | 12.7 | 68 | 20.67 | 102.8 | 21.30 | 58.55 | 189.7 | 74.4 | f | B_Ball |\n",
       "| 4.14 | 5.0 | 36.4 | 11.6 | 21 | 21.86 | 104.6 | 19.88 | 55.36 | 177.8 | 69.1 | f | B_Ball |\n",
       "| 4.11 | 5.3 | 37.3 | 12.6 | 69 | 21.88 | 126.4 | 23.66 | 57.18 | 185.0 | 74.9 | f | B_Ball |\n",
       "| 4.45 | 6.8 | 41.5 | 14.0 | 29 | 18.96 |  80.3 | 17.64 | 53.20 | 184.6 | 64.6 | f | B_Ball |\n",
       "| 4.10 | 4.4 | 37.4 | 12.5 | 42 | 21.04 |  75.2 | 15.58 | 53.77 | 174.0 | 63.7 | f | B_Ball |\n",
       "| 4.31 | 5.3 | 39.6 | 12.8 | 73 | 21.69 |  87.2 | 19.99 | 60.17 | 186.2 | 75.2 | f | B_Ball |\n",
       "| 4.42 | 5.7 | 39.9 | 13.2 | 44 | 20.62 |  97.9 | 22.43 | 48.33 | 173.8 | 62.3 | f | B_Ball |\n",
       "| 4.30 | 8.9 | 41.1 | 13.5 | 41 | 22.64 |  75.1 | 17.95 | 54.57 | 171.4 | 66.5 | f | B_Ball |\n",
       "| 4.51 | 4.4 | 41.6 | 12.7 | 44 | 19.44 |  65.1 | 15.07 | 53.42 | 179.9 | 62.9 | f | B_Ball |\n",
       "| 4.71 | 5.3 | 41.4 | 14.0 | 38 | 25.75 | 171.1 | 28.83 | 68.53 | 193.4 | 96.3 | f | B_Ball |\n",
       "| 4.62 | 7.3 | 43.8 | 14.7 | 26 | 21.20 |  76.8 | 18.08 | 61.85 | 188.7 | 75.5 | f | B_Ball |\n",
       "| 4.35 | 7.8 | 41.4 | 14.1 | 30 | 22.03 | 117.8 | 23.30 | 48.32 | 169.1 | 63.0 | f | B_Ball |\n",
       "| 4.26 | 6.2 | 41.0 | 13.9 | 48 | 25.44 |  90.2 | 17.71 | 66.24 | 177.9 | 80.5 | f | Row    |\n",
       "| 4.63 | 6.0 | 43.7 | 14.7 | 30 | 22.63 |  97.2 | 18.77 | 57.92 | 177.5 | 71.3 | f | Row    |\n",
       "| 4.36 | 5.8 | 40.3 | 13.3 | 29 | 21.86 |  99.9 | 19.83 | 56.52 | 179.6 | 70.5 | f | Row    |\n",
       "| 3.91 | 7.3 | 37.6 | 12.9 | 43 | 22.27 | 125.9 | 25.16 | 54.78 | 181.3 | 73.2 | f | Row    |\n",
       "| 4.51 | 8.3 | 43.7 | 14.7 | 34 | 21.27 |  69.9 | 18.04 | 56.31 | 179.7 | 68.7 | f | Row    |\n",
       "| 4.37 | 8.1 | 41.8 | 14.3 | 53 | 23.47 |  98.0 | 21.79 | 62.96 | 185.2 | 80.5 | f | Row    |\n",
       "| 4.90 | 6.9 | 44.0 | 14.5 | 59 | 23.19 |  96.8 | 22.25 | 56.68 | 177.3 | 72.9 | f | Row    |\n",
       "| 4.46 | 5.7 | 39.2 | 13.0 | 43 | 23.17 |  80.3 | 16.25 | 62.39 | 179.3 | 74.5 | f | Row    |\n",
       "| 3.95 | 3.3 | 36.9 | 12.5 | 40 | 24.54 |  74.9 | 16.38 | 63.05 | 175.3 | 75.4 | f | Row    |\n",
       "| 4.46 | 9.5 | 41.5 | 14.5 | 92 | 22.96 |  83.0 | 19.35 | 56.05 | 174.0 | 69.5 | f | Row    |\n",
       "| 5.02 | 6.4 | 44.8 | 15.2 | 48 | 19.76 |  91.0 | 19.20 | 53.65 | 183.3 | 66.4 | f | Row    |\n",
       "| 4.26 | 5.8 | 41.2 | 14.1 | 77 | 23.36 |  76.2 | 17.89 | 65.45 | 184.7 | 79.7 | f | Row    |\n",
       "| 4.46 | 5.6 | 41.1 | 14.3 | 71 | 22.67 |  52.6 | 12.20 | 64.62 | 180.2 | 73.6 | f | Row    |\n",
       "| 4.16 | 5.8 | 39.8 | 13.3 | 37 | 24.24 | 111.1 | 23.70 | 60.05 | 180.2 | 78.7 | f | Row    |\n",
       "| 4.49 | 7.6 | 41.8 | 14.4 | 71 | 24.21 | 110.7 | 24.69 | 56.48 | 176.0 | 75.0 | f | Row    |\n",
       "| 4.21 | 7.5 | 38.4 | 13.2 | 73 | 20.46 |  74.7 | 16.58 | 41.54 | 156.0 | 49.8 | f | Row    |\n",
       "| 4.57 | 6.6 | 42.8 | 14.5 | 85 | 20.81 | 113.5 | 21.47 | 52.78 | 179.7 | 67.2 | f | Row    |\n",
       "| ⋮ | ⋮ | ⋮ | ⋮ | ⋮ | ⋮ | ⋮ | ⋮ | ⋮ | ⋮ | ⋮ | ⋮ | ⋮ |\n",
       "| 5.49 |  5.9 | 47.7 | 15.9 |  66 | 22.28 |  48.0 |  8.84 | 65 | 178.5 |  71.0 | m | T_400m  |\n",
       "| 5.59 |  7.9 | 49.7 | 17.2 | 220 | 23.55 |  41.9 |  8.94 | 63 | 171.3 |  69.1 | m | T_Sprnt |\n",
       "| 5.03 |  6.6 | 44.7 | 15.9 | 191 | 19.85 |  30.9 |  6.53 | 59 | 178.0 |  62.9 | m | T_400m  |\n",
       "| 5.50 |  6.4 | 48.1 | 16.5 |  40 | 26.51 |  52.8 |  9.40 | 86 | 189.1 |  94.8 | m | T_Sprnt |\n",
       "| 5.11 |  9.3 | 45.4 | 15.8 | 189 | 24.78 |  43.2 |  8.18 | 87 | 195.4 |  94.6 | m | Field   |\n",
       "| 4.96 |  8.3 | 45.3 | 15.7 | 141 | 33.73 | 113.5 | 17.41 | 89 | 179.1 | 108.2 | m | Field   |\n",
       "| 5.01 |  8.9 | 46.0 | 15.9 | 212 | 30.18 |  96.9 | 18.08 | 80 | 180.1 |  97.9 | m | Field   |\n",
       "| 5.11 |  8.7 | 46.5 | 16.3 |  97 | 23.31 |  49.3 |  9.86 | 68 | 179.6 |  75.2 | m | Field   |\n",
       "| 5.69 | 10.8 | 50.5 | 18.5 |  53 | 24.51 |  42.3 |  7.29 | 69 | 174.7 |  74.8 | m | T_Sprnt |\n",
       "| 4.63 |  9.1 | 42.1 | 14.4 | 126 | 25.37 |  96.3 | 18.72 | 77 | 192.7 |  94.2 | m | W_Polo  |\n",
       "| 4.91 | 10.2 | 45.0 | 15.2 | 234 | 23.67 |  56.5 | 10.12 | 68 | 179.3 |  76.1 | m | W_Polo  |\n",
       "| 4.95 |  7.5 | 44.5 | 15.0 |  50 | 24.28 | 105.7 | 19.17 | 77 | 197.5 |  94.7 | m | W_Polo  |\n",
       "| 5.34 | 10.0 | 46.8 | 16.2 |  94 | 25.82 | 100.7 | 17.24 | 71 | 182.7 |  86.2 | m | W_Polo  |\n",
       "| 5.16 | 12.9 | 47.6 | 15.6 | 156 | 21.93 |  56.8 |  9.89 | 72 | 190.5 |  79.6 | m | W_Polo  |\n",
       "| 5.29 | 12.7 | 48.0 | 16.2 | 124 | 23.38 |  75.9 | 13.06 | 74 | 191.0 |  85.3 | m | W_Polo  |\n",
       "| 5.02 |  6.1 | 43.6 | 14.8 |  87 | 23.07 |  52.8 |  8.84 | 68 | 179.6 |  74.4 | m | W_Polo  |\n",
       "| 5.01 |  9.8 | 46.5 | 15.8 |  97 | 25.21 |  47.8 |  8.87 | 85 | 192.6 |  93.5 | m | W_Polo  |\n",
       "| 5.03 |  7.5 | 43.6 | 14.4 | 102 | 23.25 |  76.0 | 14.69 | 75 | 194.1 |  87.6 | m | W_Polo  |\n",
       "| 5.25 |  7.4 | 47.3 | 15.8 |  55 | 22.93 |  61.2 |  8.64 | 78 | 193.0 |  85.4 | m | W_Polo  |\n",
       "| 5.08 |  8.5 | 46.3 | 15.6 | 117 | 26.86 |  75.6 | 14.98 | 86 | 193.9 | 101.0 | m | W_Polo  |\n",
       "| 5.04 |  6.0 | 45.9 | 15.0 |  52 | 21.26 |  43.3 |  7.82 | 69 | 187.7 |  74.9 | m | W_Polo  |\n",
       "| 4.63 | 14.3 | 44.8 | 15.0 | 133 | 25.43 |  49.5 |  8.97 | 79 | 185.3 |  87.3 | m | W_Polo  |\n",
       "| 5.11 |  7.0 | 47.7 | 15.8 | 214 | 24.54 |  70.0 | 11.63 | 80 | 191.5 |  90.0 | m | W_Polo  |\n",
       "| 5.34 |  6.2 | 49.8 | 17.2 | 143 | 27.79 |  75.7 | 13.49 | 82 | 184.6 |  94.7 | m | W_Polo  |\n",
       "| 4.86 |  8.9 | 46.9 | 15.8 |  65 | 23.58 |  57.7 | 10.25 | 68 | 179.9 |  76.3 | m | W_Polo  |\n",
       "| 4.90 |  7.6 | 45.6 | 16.0 |  90 | 27.56 |  67.2 | 11.79 | 82 | 183.9 |  93.2 | m | W_Polo  |\n",
       "| 5.66 |  8.3 | 50.2 | 17.7 |  38 | 23.76 |  56.5 | 10.05 | 72 | 183.5 |  80.0 | m | Tennis  |\n",
       "| 5.03 |  6.4 | 42.7 | 14.3 | 122 | 22.01 |  47.6 |  8.51 | 68 | 183.1 |  73.8 | m | Tennis  |\n",
       "| 4.97 |  8.8 | 43.0 | 14.9 | 233 | 22.34 |  60.4 | 11.50 | 63 | 178.4 |  71.1 | m | Tennis  |\n",
       "| 5.38 |  6.3 | 46.0 | 15.7 |  32 | 21.07 |  34.9 |  6.26 | 72 | 190.8 |  76.7 | m | Tennis  |\n",
       "\n"
      ],
      "text/plain": [
       "    rcc  wcc  hc   hg   ferr bmi   ssf   pcBfat lbm   ht    wt    sex sport  \n",
       "1   3.96 7.5  37.5 12.3 60   20.56 109.1 19.75  63.32 195.9 78.9  f   B_Ball \n",
       "2   4.41 8.3  38.2 12.7 68   20.67 102.8 21.30  58.55 189.7 74.4  f   B_Ball \n",
       "3   4.14 5.0  36.4 11.6 21   21.86 104.6 19.88  55.36 177.8 69.1  f   B_Ball \n",
       "4   4.11 5.3  37.3 12.6 69   21.88 126.4 23.66  57.18 185.0 74.9  f   B_Ball \n",
       "5   4.45 6.8  41.5 14.0 29   18.96  80.3 17.64  53.20 184.6 64.6  f   B_Ball \n",
       "6   4.10 4.4  37.4 12.5 42   21.04  75.2 15.58  53.77 174.0 63.7  f   B_Ball \n",
       "7   4.31 5.3  39.6 12.8 73   21.69  87.2 19.99  60.17 186.2 75.2  f   B_Ball \n",
       "8   4.42 5.7  39.9 13.2 44   20.62  97.9 22.43  48.33 173.8 62.3  f   B_Ball \n",
       "9   4.30 8.9  41.1 13.5 41   22.64  75.1 17.95  54.57 171.4 66.5  f   B_Ball \n",
       "10  4.51 4.4  41.6 12.7 44   19.44  65.1 15.07  53.42 179.9 62.9  f   B_Ball \n",
       "11  4.71 5.3  41.4 14.0 38   25.75 171.1 28.83  68.53 193.4 96.3  f   B_Ball \n",
       "12  4.62 7.3  43.8 14.7 26   21.20  76.8 18.08  61.85 188.7 75.5  f   B_Ball \n",
       "13  4.35 7.8  41.4 14.1 30   22.03 117.8 23.30  48.32 169.1 63.0  f   B_Ball \n",
       "14  4.26 6.2  41.0 13.9 48   25.44  90.2 17.71  66.24 177.9 80.5  f   Row    \n",
       "15  4.63 6.0  43.7 14.7 30   22.63  97.2 18.77  57.92 177.5 71.3  f   Row    \n",
       "16  4.36 5.8  40.3 13.3 29   21.86  99.9 19.83  56.52 179.6 70.5  f   Row    \n",
       "17  3.91 7.3  37.6 12.9 43   22.27 125.9 25.16  54.78 181.3 73.2  f   Row    \n",
       "18  4.51 8.3  43.7 14.7 34   21.27  69.9 18.04  56.31 179.7 68.7  f   Row    \n",
       "19  4.37 8.1  41.8 14.3 53   23.47  98.0 21.79  62.96 185.2 80.5  f   Row    \n",
       "20  4.90 6.9  44.0 14.5 59   23.19  96.8 22.25  56.68 177.3 72.9  f   Row    \n",
       "21  4.46 5.7  39.2 13.0 43   23.17  80.3 16.25  62.39 179.3 74.5  f   Row    \n",
       "22  3.95 3.3  36.9 12.5 40   24.54  74.9 16.38  63.05 175.3 75.4  f   Row    \n",
       "23  4.46 9.5  41.5 14.5 92   22.96  83.0 19.35  56.05 174.0 69.5  f   Row    \n",
       "24  5.02 6.4  44.8 15.2 48   19.76  91.0 19.20  53.65 183.3 66.4  f   Row    \n",
       "25  4.26 5.8  41.2 14.1 77   23.36  76.2 17.89  65.45 184.7 79.7  f   Row    \n",
       "26  4.46 5.6  41.1 14.3 71   22.67  52.6 12.20  64.62 180.2 73.6  f   Row    \n",
       "27  4.16 5.8  39.8 13.3 37   24.24 111.1 23.70  60.05 180.2 78.7  f   Row    \n",
       "28  4.49 7.6  41.8 14.4 71   24.21 110.7 24.69  56.48 176.0 75.0  f   Row    \n",
       "29  4.21 7.5  38.4 13.2 73   20.46  74.7 16.58  41.54 156.0 49.8  f   Row    \n",
       "30  4.57 6.6  42.8 14.5 85   20.81 113.5 21.47  52.78 179.7 67.2  f   Row    \n",
       "⋮   ⋮    ⋮    ⋮    ⋮    ⋮    ⋮     ⋮     ⋮      ⋮     ⋮     ⋮     ⋮   ⋮      \n",
       "173 5.49  5.9 47.7 15.9  66  22.28  48.0  8.84  65    178.5  71.0 m   T_400m \n",
       "174 5.59  7.9 49.7 17.2 220  23.55  41.9  8.94  63    171.3  69.1 m   T_Sprnt\n",
       "175 5.03  6.6 44.7 15.9 191  19.85  30.9  6.53  59    178.0  62.9 m   T_400m \n",
       "176 5.50  6.4 48.1 16.5  40  26.51  52.8  9.40  86    189.1  94.8 m   T_Sprnt\n",
       "177 5.11  9.3 45.4 15.8 189  24.78  43.2  8.18  87    195.4  94.6 m   Field  \n",
       "178 4.96  8.3 45.3 15.7 141  33.73 113.5 17.41  89    179.1 108.2 m   Field  \n",
       "179 5.01  8.9 46.0 15.9 212  30.18  96.9 18.08  80    180.1  97.9 m   Field  \n",
       "180 5.11  8.7 46.5 16.3  97  23.31  49.3  9.86  68    179.6  75.2 m   Field  \n",
       "181 5.69 10.8 50.5 18.5  53  24.51  42.3  7.29  69    174.7  74.8 m   T_Sprnt\n",
       "182 4.63  9.1 42.1 14.4 126  25.37  96.3 18.72  77    192.7  94.2 m   W_Polo \n",
       "183 4.91 10.2 45.0 15.2 234  23.67  56.5 10.12  68    179.3  76.1 m   W_Polo \n",
       "184 4.95  7.5 44.5 15.0  50  24.28 105.7 19.17  77    197.5  94.7 m   W_Polo \n",
       "185 5.34 10.0 46.8 16.2  94  25.82 100.7 17.24  71    182.7  86.2 m   W_Polo \n",
       "186 5.16 12.9 47.6 15.6 156  21.93  56.8  9.89  72    190.5  79.6 m   W_Polo \n",
       "187 5.29 12.7 48.0 16.2 124  23.38  75.9 13.06  74    191.0  85.3 m   W_Polo \n",
       "188 5.02  6.1 43.6 14.8  87  23.07  52.8  8.84  68    179.6  74.4 m   W_Polo \n",
       "189 5.01  9.8 46.5 15.8  97  25.21  47.8  8.87  85    192.6  93.5 m   W_Polo \n",
       "190 5.03  7.5 43.6 14.4 102  23.25  76.0 14.69  75    194.1  87.6 m   W_Polo \n",
       "191 5.25  7.4 47.3 15.8  55  22.93  61.2  8.64  78    193.0  85.4 m   W_Polo \n",
       "192 5.08  8.5 46.3 15.6 117  26.86  75.6 14.98  86    193.9 101.0 m   W_Polo \n",
       "193 5.04  6.0 45.9 15.0  52  21.26  43.3  7.82  69    187.7  74.9 m   W_Polo \n",
       "194 4.63 14.3 44.8 15.0 133  25.43  49.5  8.97  79    185.3  87.3 m   W_Polo \n",
       "195 5.11  7.0 47.7 15.8 214  24.54  70.0 11.63  80    191.5  90.0 m   W_Polo \n",
       "196 5.34  6.2 49.8 17.2 143  27.79  75.7 13.49  82    184.6  94.7 m   W_Polo \n",
       "197 4.86  8.9 46.9 15.8  65  23.58  57.7 10.25  68    179.9  76.3 m   W_Polo \n",
       "198 4.90  7.6 45.6 16.0  90  27.56  67.2 11.79  82    183.9  93.2 m   W_Polo \n",
       "199 5.66  8.3 50.2 17.7  38  23.76  56.5 10.05  72    183.5  80.0 m   Tennis \n",
       "200 5.03  6.4 42.7 14.3 122  22.01  47.6  8.51  68    183.1  73.8 m   Tennis \n",
       "201 4.97  8.8 43.0 14.9 233  22.34  60.4 11.50  63    178.4  71.1 m   Tennis \n",
       "202 5.38  6.3 46.0 15.7  32  21.07  34.9  6.26  72    190.8  76.7 m   Tennis "
      ]
     },
     "metadata": {},
     "output_type": "display_data"
    }
   ],
   "source": [
    "data(ais)\n",
    "ais"
   ]
  },
  {
   "cell_type": "code",
   "execution_count": 9,
   "metadata": {},
   "outputs": [
    {
     "data": {
      "text/html": [
       "<table>\n",
       "<caption>A data.frame: 0 × 13</caption>\n",
       "<thead>\n",
       "\t<tr><th scope=col>rcc</th><th scope=col>wcc</th><th scope=col>hc</th><th scope=col>hg</th><th scope=col>ferr</th><th scope=col>bmi</th><th scope=col>ssf</th><th scope=col>pcBfat</th><th scope=col>lbm</th><th scope=col>ht</th><th scope=col>wt</th><th scope=col>sex</th><th scope=col>sport</th></tr>\n",
       "\t<tr><th scope=col>&lt;dbl&gt;</th><th scope=col>&lt;dbl&gt;</th><th scope=col>&lt;dbl&gt;</th><th scope=col>&lt;dbl&gt;</th><th scope=col>&lt;dbl&gt;</th><th scope=col>&lt;dbl&gt;</th><th scope=col>&lt;dbl&gt;</th><th scope=col>&lt;dbl&gt;</th><th scope=col>&lt;dbl&gt;</th><th scope=col>&lt;dbl&gt;</th><th scope=col>&lt;dbl&gt;</th><th scope=col>&lt;fct&gt;</th><th scope=col>&lt;fct&gt;</th></tr>\n",
       "</thead>\n",
       "<tbody>\n",
       "</tbody>\n",
       "</table>\n"
      ],
      "text/latex": [
       "A data.frame: 0 × 13\n",
       "\\begin{tabular}{r|lllllllllllll}\n",
       " rcc & wcc & hc & hg & ferr & bmi & ssf & pcBfat & lbm & ht & wt & sex & sport\\\\\n",
       " <dbl> & <dbl> & <dbl> & <dbl> & <dbl> & <dbl> & <dbl> & <dbl> & <dbl> & <dbl> & <dbl> & <fct> & <fct>\\\\\n",
       "\\hline\n",
       "\\end{tabular}\n"
      ],
      "text/markdown": [
       "\n",
       "A data.frame: 0 × 13\n",
       "\n",
       "| rcc &lt;dbl&gt; | wcc &lt;dbl&gt; | hc &lt;dbl&gt; | hg &lt;dbl&gt; | ferr &lt;dbl&gt; | bmi &lt;dbl&gt; | ssf &lt;dbl&gt; | pcBfat &lt;dbl&gt; | lbm &lt;dbl&gt; | ht &lt;dbl&gt; | wt &lt;dbl&gt; | sex &lt;fct&gt; | sport &lt;fct&gt; |\n",
       "|---|---|---|---|---|---|---|---|---|---|---|---|---|\n",
       "\n"
      ],
      "text/plain": [
       "     rcc wcc hc hg ferr bmi ssf pcBfat lbm ht wt sex sport"
      ]
     },
     "metadata": {},
     "output_type": "display_data"
    }
   ],
   "source": [
    "ais[!complete.cases(ais),]"
   ]
  },
  {
   "cell_type": "code",
   "execution_count": 10,
   "metadata": {
    "scrolled": true
   },
   "outputs": [
    {
     "ename": "ERROR",
     "evalue": "Error in eval(expr, envir, enclos): object 'a' not found\n",
     "output_type": "error",
     "traceback": [
      "Error in eval(expr, envir, enclos): object 'a' not found\nTraceback:\n"
     ]
    }
   ],
   "source": [
    "sport<-levels(ais$sport)\n",
    "n_male<-c()\n",
    "n_female<-c()\n",
    "for(i in a) {\n",
    "n_female <- c(n_female, nrow(ais[ais$sport==i&ais$sex==\"f\",]))\n",
    "n_male<- c(n_male, nrow(ais[ais$sport==i&ais$sex==\"m\",]))\n",
    "}\n",
    "table<-data.frame(sport,n_male, n_female) \n",
    "table"
   ]
  },
  {
   "cell_type": "markdown",
   "metadata": {},
   "source": [
    "## Exercise 3"
   ]
  },
  {
   "cell_type": "code",
   "execution_count": 11,
   "metadata": {
    "scrolled": true
   },
   "outputs": [
    {
     "data": {
      "text/html": [
       "<table>\n",
       "<caption>A data.frame: 7978 × 17</caption>\n",
       "<thead>\n",
       "\t<tr><th scope=col>ZONA</th><th scope=col>REGIONE</th><th scope=col>PROVINCIA</th><th scope=col>COMUNE</th><th scope=col>DENOMINAZIONE</th><th scope=col>POPCENSITA</th><th scope=col>SEZIONITOTALI</th><th scope=col>DICUIOSP</th><th scope=col>ISCRMASCHI</th><th scope=col>ISCRFEMM</th><th scope=col>ISCRTOTALI</th><th scope=col>DICIOTTMASCHI</th><th scope=col>DICIOTTFEMM</th><th scope=col>DICIOTTOTALI</th><th scope=col>ESTEROMASCHI</th><th scope=col>ESTEROFEMMINE</th><th scope=col>ESTEROTOTALI</th></tr>\n",
       "\t<tr><th scope=col>&lt;int&gt;</th><th scope=col>&lt;int&gt;</th><th scope=col>&lt;int&gt;</th><th scope=col>&lt;int&gt;</th><th scope=col>&lt;fct&gt;</th><th scope=col>&lt;fct&gt;</th><th scope=col>&lt;dbl&gt;</th><th scope=col>&lt;int&gt;</th><th scope=col>&lt;fct&gt;</th><th scope=col>&lt;fct&gt;</th><th scope=col>&lt;fct&gt;</th><th scope=col>&lt;dbl&gt;</th><th scope=col>&lt;dbl&gt;</th><th scope=col>&lt;dbl&gt;</th><th scope=col>&lt;dbl&gt;</th><th scope=col>&lt;dbl&gt;</th><th scope=col>&lt;dbl&gt;</th></tr>\n",
       "</thead>\n",
       "<tbody>\n",
       "\t<tr><td>1</td><td>1</td><td>2</td><td> 10</td><td>ACQUI TERME            </td><td>20.054</td><td>24</td><td>1</td><td>7.669 </td><td>8.942 </td><td>16.611</td><td> 37</td><td> 43</td><td> 80</td><td>390.000</td><td>406.000</td><td>796.000</td></tr>\n",
       "\t<tr><td>1</td><td>1</td><td>2</td><td> 20</td><td>ALBERA LIGURE          </td><td>329   </td><td> 1</td><td>0</td><td>181   </td><td>163   </td><td>344   </td><td>  0</td><td>  1</td><td>  1</td><td> 39.000</td><td> 33.000</td><td> 72.000</td></tr>\n",
       "\t<tr><td>1</td><td>1</td><td>2</td><td> 30</td><td>ALESSANDRIA            </td><td>89.411</td><td>93</td><td>2</td><td>35.565</td><td>39.453</td><td>75.018</td><td>196</td><td>172</td><td>368</td><td>  2.566</td><td>  2.496</td><td>  5.062</td></tr>\n",
       "\t<tr><td>1</td><td>1</td><td>2</td><td> 40</td><td>ALFIANO NATTA          </td><td>754   </td><td> 1</td><td>0</td><td>312   </td><td>346   </td><td>658   </td><td>  3</td><td>  3</td><td>  6</td><td> 27.000</td><td> 34.000</td><td> 61.000</td></tr>\n",
       "\t<tr><td>1</td><td>1</td><td>2</td><td> 50</td><td>ALICE BEL COLLE        </td><td>774   </td><td> 1</td><td>0</td><td>347   </td><td>341   </td><td>688   </td><td>  3</td><td>  0</td><td>  3</td><td> 35.000</td><td> 51.000</td><td> 86.000</td></tr>\n",
       "\t<tr><td>1</td><td>1</td><td>2</td><td> 60</td><td>ALLUVIONI CAMBIO'      </td><td>961   </td><td> 1</td><td>0</td><td>469   </td><td>530   </td><td>999   </td><td>  3</td><td>  3</td><td>  6</td><td>101.000</td><td>119.000</td><td>220.000</td></tr>\n",
       "\t<tr><td>1</td><td>1</td><td>2</td><td> 70</td><td>ALTAVILLA MONFERRATO   </td><td>497   </td><td> 2</td><td>0</td><td>229   </td><td>217   </td><td>446   </td><td>  4</td><td>  2</td><td>  6</td><td> 31.000</td><td> 33.000</td><td> 64.000</td></tr>\n",
       "\t<tr><td>1</td><td>1</td><td>2</td><td> 80</td><td>ALZANO SCRIVIA         </td><td>380   </td><td> 1</td><td>0</td><td>160   </td><td>146   </td><td>306   </td><td>  3</td><td>  0</td><td>  3</td><td>  4.000</td><td>  3.000</td><td>  7.000</td></tr>\n",
       "\t<tr><td>1</td><td>1</td><td>2</td><td> 90</td><td>ARQUATA SCRIVIA        </td><td>6.068 </td><td> 8</td><td>0</td><td>2.618 </td><td>2.772 </td><td>5.390 </td><td> 17</td><td>  9</td><td> 26</td><td>189.000</td><td>177.000</td><td>366.000</td></tr>\n",
       "\t<tr><td>1</td><td>1</td><td>2</td><td>100</td><td>AVOLASCA               </td><td>306   </td><td> 1</td><td>0</td><td>123   </td><td>114   </td><td>237   </td><td>  0</td><td>  0</td><td>  0</td><td>  5.000</td><td>  5.000</td><td> 10.000</td></tr>\n",
       "\t<tr><td>1</td><td>1</td><td>2</td><td>110</td><td>BALZOLA                </td><td>1.420 </td><td> 2</td><td>0</td><td>567   </td><td>613   </td><td>1.180 </td><td>  4</td><td>  2</td><td>  6</td><td> 14.000</td><td> 13.000</td><td> 27.000</td></tr>\n",
       "\t<tr><td>1</td><td>1</td><td>2</td><td>120</td><td>BASALUZZO              </td><td>2.071 </td><td> 2</td><td>0</td><td>973   </td><td>960   </td><td>1.933 </td><td>  6</td><td>  2</td><td>  8</td><td>125.000</td><td>144.000</td><td>269.000</td></tr>\n",
       "\t<tr><td>1</td><td>1</td><td>2</td><td>130</td><td>BASSIGNANA             </td><td>1.742 </td><td> 2</td><td>0</td><td>795   </td><td>870   </td><td>1.665 </td><td>  4</td><td>  6</td><td> 10</td><td>110.000</td><td>133.000</td><td>243.000</td></tr>\n",
       "\t<tr><td>1</td><td>1</td><td>2</td><td>140</td><td>BELFORTE MONFERRATO    </td><td>505   </td><td> 1</td><td>0</td><td>227   </td><td>203   </td><td>430   </td><td>  1</td><td>  0</td><td>  1</td><td>  2.000</td><td>  1.000</td><td>  3.000</td></tr>\n",
       "\t<tr><td>1</td><td>1</td><td>2</td><td>150</td><td>BERGAMASCO             </td><td>765   </td><td> 1</td><td>0</td><td>362   </td><td>353   </td><td>715   </td><td>  1</td><td>  2</td><td>  3</td><td> 59.000</td><td> 52.000</td><td>111.000</td></tr>\n",
       "\t<tr><td>1</td><td>1</td><td>2</td><td>160</td><td>BERZANO DI TORTONA     </td><td>171   </td><td> 1</td><td>0</td><td>65    </td><td>60    </td><td>125   </td><td>  2</td><td>  0</td><td>  2</td><td>  3.000</td><td>  1.000</td><td>  4.000</td></tr>\n",
       "\t<tr><td>1</td><td>1</td><td>2</td><td>170</td><td>BISTAGNO               </td><td>1.930 </td><td> 2</td><td>0</td><td>736   </td><td>779   </td><td>1.515 </td><td>  5</td><td>  4</td><td>  9</td><td> 21.000</td><td> 28.000</td><td> 49.000</td></tr>\n",
       "\t<tr><td>1</td><td>1</td><td>2</td><td>180</td><td>BORGHETTO DI BORBERA   </td><td>1.991 </td><td> 2</td><td>0</td><td>888   </td><td>883   </td><td>1.771 </td><td>  5</td><td>  3</td><td>  8</td><td> 68.000</td><td> 75.000</td><td>143.000</td></tr>\n",
       "\t<tr><td>1</td><td>1</td><td>2</td><td>190</td><td>BORGORATTO ALESSANDRINO</td><td>617   </td><td> 1</td><td>0</td><td>290   </td><td>299   </td><td>589   </td><td>  2</td><td>  2</td><td>  4</td><td> 57.000</td><td> 52.000</td><td>109.000</td></tr>\n",
       "\t<tr><td>1</td><td>1</td><td>2</td><td>200</td><td>BORGO SAN MARTINO      </td><td>1.470 </td><td> 2</td><td>0</td><td>590   </td><td>589   </td><td>1.179 </td><td>  4</td><td>  0</td><td>  4</td><td> 39.000</td><td> 37.000</td><td> 76.000</td></tr>\n",
       "\t<tr><td>1</td><td>1</td><td>2</td><td>210</td><td>BOSCO MARENGO          </td><td>2.531 </td><td> 3</td><td>0</td><td>1.154 </td><td>1.170 </td><td>2.324 </td><td>  4</td><td>  5</td><td>  9</td><td>188.000</td><td>202.000</td><td>390.000</td></tr>\n",
       "\t<tr><td>1</td><td>1</td><td>2</td><td>220</td><td>BOSIO                  </td><td>1.240 </td><td> 2</td><td>0</td><td>489   </td><td>460   </td><td>949   </td><td>  3</td><td>  3</td><td>  6</td><td> 16.000</td><td> 10.000</td><td> 26.000</td></tr>\n",
       "\t<tr><td>1</td><td>1</td><td>2</td><td>230</td><td>BOZZOLE                </td><td>331   </td><td> 1</td><td>0</td><td>128   </td><td>141   </td><td>269   </td><td>  1</td><td>  2</td><td>  3</td><td>  8.000</td><td>  3.000</td><td> 11.000</td></tr>\n",
       "\t<tr><td>1</td><td>1</td><td>2</td><td>240</td><td>BRIGNANO FRASCATA      </td><td>451   </td><td> 1</td><td>0</td><td>200   </td><td>189   </td><td>389   </td><td>  2</td><td>  0</td><td>  2</td><td>  6.000</td><td>  7.000</td><td> 13.000</td></tr>\n",
       "\t<tr><td>1</td><td>1</td><td>2</td><td>250</td><td>CABELLA LIGURE         </td><td>554   </td><td> 1</td><td>0</td><td>334   </td><td>287   </td><td>621   </td><td>  0</td><td>  1</td><td>  1</td><td>108.000</td><td> 99.000</td><td>207.000</td></tr>\n",
       "\t<tr><td>1</td><td>1</td><td>2</td><td>260</td><td>CAMAGNA MONFERRATO     </td><td>510   </td><td> 1</td><td>0</td><td>257   </td><td>251   </td><td>508   </td><td>  2</td><td>  2</td><td>  4</td><td> 40.000</td><td> 30.000</td><td> 70.000</td></tr>\n",
       "\t<tr><td>1</td><td>1</td><td>2</td><td>270</td><td>CAMINO                 </td><td>802   </td><td> 2</td><td>0</td><td>359   </td><td>369   </td><td>728   </td><td>  1</td><td>  2</td><td>  3</td><td> 40.000</td><td> 39.000</td><td> 79.000</td></tr>\n",
       "\t<tr><td>1</td><td>1</td><td>2</td><td>280</td><td>CANTALUPO LIGURE       </td><td>549   </td><td> 1</td><td>0</td><td>278   </td><td>284   </td><td>562   </td><td>  0</td><td>  0</td><td>  0</td><td> 67.000</td><td> 70.000</td><td>137.000</td></tr>\n",
       "\t<tr><td>1</td><td>1</td><td>2</td><td>290</td><td>CAPRIATA D'ORBA        </td><td>1.926 </td><td> 2</td><td>0</td><td>834   </td><td>863   </td><td>1.697 </td><td>  2</td><td>  2</td><td>  4</td><td>100.000</td><td> 90.000</td><td>190.000</td></tr>\n",
       "\t<tr><td>1</td><td>1</td><td>2</td><td>300</td><td>CARBONARA SCRIVIA      </td><td>1.055 </td><td> 1</td><td>0</td><td>449   </td><td>463   </td><td>912   </td><td>  2</td><td>  1</td><td>  3</td><td> 40.000</td><td> 26.000</td><td> 66.000</td></tr>\n",
       "\t<tr><td>⋮</td><td>⋮</td><td>⋮</td><td>⋮</td><td>⋮</td><td>⋮</td><td>⋮</td><td>⋮</td><td>⋮</td><td>⋮</td><td>⋮</td><td>⋮</td><td>⋮</td><td>⋮</td><td>⋮</td><td>⋮</td><td>⋮</td></tr>\n",
       "\t<tr><td>4</td><td>20</td><td>111</td><td> 780</td><td>SERRENTI        </td><td>5.028 </td><td> 4</td><td>0</td><td>2.247</td><td>2.228</td><td>4.475 </td><td>11</td><td>10</td><td>21</td><td>150</td><td>103</td><td>253</td></tr>\n",
       "\t<tr><td>4</td><td>20</td><td>111</td><td> 790</td><td>SERRI           </td><td>676   </td><td> 1</td><td>0</td><td>327  </td><td>303  </td><td>630   </td><td> 2</td><td> 4</td><td> 6</td><td> 44</td><td> 23</td><td> 67</td></tr>\n",
       "\t<tr><td>4</td><td>20</td><td>111</td><td> 800</td><td>SETZU           </td><td>144   </td><td> 1</td><td>0</td><td>65   </td><td>63   </td><td>128   </td><td> 2</td><td> 1</td><td> 3</td><td>  1</td><td>  0</td><td>  1</td></tr>\n",
       "\t<tr><td>4</td><td>20</td><td>111</td><td> 810</td><td>SEUI            </td><td>1.361 </td><td> 2</td><td>0</td><td>782  </td><td>764  </td><td>1.546 </td><td> 8</td><td> 4</td><td>12</td><td>210</td><td>220</td><td>430</td></tr>\n",
       "\t<tr><td>4</td><td>20</td><td>111</td><td> 820</td><td>SEULO           </td><td>897   </td><td> 1</td><td>0</td><td>442  </td><td>425  </td><td>867   </td><td> 6</td><td> 1</td><td> 7</td><td> 62</td><td> 66</td><td>128</td></tr>\n",
       "\t<tr><td>4</td><td>20</td><td>111</td><td> 830</td><td>SIDDI           </td><td>696   </td><td> 1</td><td>0</td><td>346  </td><td>322  </td><td>668   </td><td> 3</td><td> 1</td><td> 4</td><td> 39</td><td> 32</td><td> 71</td></tr>\n",
       "\t<tr><td>4</td><td>20</td><td>111</td><td> 840</td><td>SILIQUA         </td><td>3.997 </td><td> 4</td><td>0</td><td>1.717</td><td>1.787</td><td>3.504 </td><td>10</td><td>13</td><td>23</td><td>101</td><td>117</td><td>218</td></tr>\n",
       "\t<tr><td>4</td><td>20</td><td>111</td><td> 850</td><td>SILIUS          </td><td>1.271 </td><td> 2</td><td>0</td><td>618  </td><td>533  </td><td>1.151 </td><td> 9</td><td> 4</td><td>13</td><td> 62</td><td> 58</td><td>120</td></tr>\n",
       "\t<tr><td>4</td><td>20</td><td>111</td><td> 860</td><td>SIURGUS DONIGALA</td><td>2.080 </td><td> 2</td><td>0</td><td>889  </td><td>876  </td><td>1.765 </td><td> 3</td><td> 5</td><td> 8</td><td> 61</td><td> 28</td><td> 89</td></tr>\n",
       "\t<tr><td>4</td><td>20</td><td>111</td><td> 870</td><td>SOLEMINIS       </td><td>1.858 </td><td> 2</td><td>0</td><td>803  </td><td>813  </td><td>1.616 </td><td> 4</td><td> 6</td><td>10</td><td> 29</td><td> 16</td><td> 45</td></tr>\n",
       "\t<tr><td>4</td><td>20</td><td>111</td><td> 880</td><td>SUELLI          </td><td>1.135 </td><td> 1</td><td>0</td><td>535  </td><td>515  </td><td>1.050 </td><td> 3</td><td> 2</td><td> 5</td><td> 40</td><td> 30</td><td> 70</td></tr>\n",
       "\t<tr><td>4</td><td>20</td><td>111</td><td> 890</td><td>TEULADA         </td><td>3.773 </td><td> 5</td><td>0</td><td>1.897</td><td>1.713</td><td>3.610 </td><td> 7</td><td>10</td><td>17</td><td>238</td><td>171</td><td>409</td></tr>\n",
       "\t<tr><td>4</td><td>20</td><td>111</td><td> 900</td><td>TRATALIAS       </td><td>1.107 </td><td> 1</td><td>0</td><td>521  </td><td>529  </td><td>1.050 </td><td> 3</td><td> 0</td><td> 3</td><td> 57</td><td> 52</td><td>109</td></tr>\n",
       "\t<tr><td>4</td><td>20</td><td>111</td><td> 910</td><td>TUILI           </td><td>1.062 </td><td> 2</td><td>0</td><td>465  </td><td>509  </td><td>974   </td><td> 1</td><td> 4</td><td> 5</td><td> 29</td><td> 35</td><td> 64</td></tr>\n",
       "\t<tr><td>4</td><td>20</td><td>111</td><td> 920</td><td>TURRI           </td><td>442   </td><td> 1</td><td>0</td><td>222  </td><td>229  </td><td>451   </td><td> 1</td><td> 1</td><td> 2</td><td> 38</td><td> 39</td><td> 77</td></tr>\n",
       "\t<tr><td>4</td><td>20</td><td>111</td><td> 930</td><td>USSANA          </td><td>4.285 </td><td> 4</td><td>0</td><td>1.968</td><td>1.967</td><td>3.935 </td><td>11</td><td>13</td><td>24</td><td>238</td><td>198</td><td>436</td></tr>\n",
       "\t<tr><td>4</td><td>20</td><td>111</td><td> 940</td><td>USSARAMANNA     </td><td>556   </td><td> 1</td><td>0</td><td>270  </td><td>277  </td><td>547   </td><td> 3</td><td> 2</td><td> 5</td><td> 33</td><td> 39</td><td> 72</td></tr>\n",
       "\t<tr><td>4</td><td>20</td><td>111</td><td> 950</td><td>VALLERMOSA      </td><td>1.944 </td><td> 2</td><td>0</td><td>1.024</td><td>994  </td><td>2.018 </td><td> 3</td><td> 6</td><td> 9</td><td>201</td><td>188</td><td>389</td></tr>\n",
       "\t<tr><td>4</td><td>20</td><td>111</td><td> 960</td><td>VILLACIDRO      </td><td>14.281</td><td>14</td><td>0</td><td>6.379</td><td>6.416</td><td>12.795</td><td>42</td><td>30</td><td>72</td><td>538</td><td>428</td><td>966</td></tr>\n",
       "\t<tr><td>4</td><td>20</td><td>111</td><td> 970</td><td>VILLAMAR        </td><td>2.872 </td><td> 3</td><td>0</td><td>1.289</td><td>1.269</td><td>2.558 </td><td> 6</td><td> 5</td><td>11</td><td>153</td><td>136</td><td>289</td></tr>\n",
       "\t<tr><td>4</td><td>20</td><td>111</td><td> 980</td><td>VILLAMASSARGIA  </td><td>3.655 </td><td> 4</td><td>0</td><td>1.608</td><td>1.668</td><td>3.276 </td><td> 7</td><td> 5</td><td>12</td><td>101</td><td> 77</td><td>178</td></tr>\n",
       "\t<tr><td>4</td><td>20</td><td>111</td><td> 990</td><td>VILLANOVA TULO  </td><td>1.158 </td><td> 1</td><td>0</td><td>607  </td><td>567  </td><td>1.174 </td><td> 5</td><td> 2</td><td> 7</td><td>120</td><td>125</td><td>245</td></tr>\n",
       "\t<tr><td>4</td><td>20</td><td>111</td><td>1000</td><td>VILLANOVAFORRU  </td><td>681   </td><td> 1</td><td>0</td><td>325  </td><td>305  </td><td>630   </td><td> 2</td><td> 1</td><td> 3</td><td> 39</td><td> 43</td><td> 82</td></tr>\n",
       "\t<tr><td>4</td><td>20</td><td>111</td><td>1010</td><td>VILLANOVAFRANCA </td><td>1.433 </td><td> 2</td><td>0</td><td>650  </td><td>652  </td><td>1.302 </td><td> 4</td><td> 3</td><td> 7</td><td> 68</td><td> 79</td><td>147</td></tr>\n",
       "\t<tr><td>4</td><td>20</td><td>111</td><td>1020</td><td>VILLAPERUCCIO   </td><td>1.097 </td><td> 1</td><td>0</td><td>514  </td><td>530  </td><td>1.044 </td><td> 0</td><td> 3</td><td> 3</td><td> 68</td><td> 58</td><td>126</td></tr>\n",
       "\t<tr><td>4</td><td>20</td><td>111</td><td>1030</td><td>VILLAPUTZU      </td><td>4.836 </td><td> 5</td><td>0</td><td>2.456</td><td>2.401</td><td>4.857 </td><td>13</td><td>14</td><td>27</td><td>396</td><td>335</td><td>731</td></tr>\n",
       "\t<tr><td>4</td><td>20</td><td>111</td><td>1040</td><td>VILLASALTO      </td><td>1.127 </td><td> 2</td><td>0</td><td>635  </td><td>621  </td><td>1.256 </td><td> 3</td><td> 1</td><td> 4</td><td>190</td><td>154</td><td>344</td></tr>\n",
       "\t<tr><td>4</td><td>20</td><td>111</td><td>1050</td><td>VILLASIMIUS     </td><td>3.420 </td><td> 3</td><td>0</td><td>1.674</td><td>1.627</td><td>3.301 </td><td> 5</td><td> 3</td><td> 8</td><td>136</td><td>108</td><td>244</td></tr>\n",
       "\t<tr><td>4</td><td>20</td><td>111</td><td>1060</td><td>VILLASOR        </td><td>6.857 </td><td> 7</td><td>0</td><td>3.041</td><td>3.080</td><td>6.121 </td><td>16</td><td>13</td><td>29</td><td>186</td><td>135</td><td>321</td></tr>\n",
       "\t<tr><td>4</td><td>20</td><td>111</td><td>1070</td><td>VILLASPECIOSA   </td><td>2.407 </td><td> 2</td><td>0</td><td>1.071</td><td>1.067</td><td>2.138 </td><td> 8</td><td>11</td><td>19</td><td> 31</td><td> 33</td><td> 64</td></tr>\n",
       "</tbody>\n",
       "</table>\n"
      ],
      "text/latex": [
       "A data.frame: 7978 × 17\n",
       "\\begin{tabular}{r|lllllllllllllllll}\n",
       " ZONA & REGIONE & PROVINCIA & COMUNE & DENOMINAZIONE & POPCENSITA & SEZIONITOTALI & DICUIOSP & ISCRMASCHI & ISCRFEMM & ISCRTOTALI & DICIOTTMASCHI & DICIOTTFEMM & DICIOTTOTALI & ESTEROMASCHI & ESTEROFEMMINE & ESTEROTOTALI\\\\\n",
       " <int> & <int> & <int> & <int> & <fct> & <fct> & <dbl> & <int> & <fct> & <fct> & <fct> & <dbl> & <dbl> & <dbl> & <dbl> & <dbl> & <dbl>\\\\\n",
       "\\hline\n",
       "\t 1 & 1 & 2 &  10 & ACQUI TERME             & 20.054 & 24 & 1 & 7.669  & 8.942  & 16.611 &  37 &  43 &  80 & 390.000 & 406.000 & 796.000\\\\\n",
       "\t 1 & 1 & 2 &  20 & ALBERA LIGURE           & 329    &  1 & 0 & 181    & 163    & 344    &   0 &   1 &   1 &  39.000 &  33.000 &  72.000\\\\\n",
       "\t 1 & 1 & 2 &  30 & ALESSANDRIA             & 89.411 & 93 & 2 & 35.565 & 39.453 & 75.018 & 196 & 172 & 368 &   2.566 &   2.496 &   5.062\\\\\n",
       "\t 1 & 1 & 2 &  40 & ALFIANO NATTA           & 754    &  1 & 0 & 312    & 346    & 658    &   3 &   3 &   6 &  27.000 &  34.000 &  61.000\\\\\n",
       "\t 1 & 1 & 2 &  50 & ALICE BEL COLLE         & 774    &  1 & 0 & 347    & 341    & 688    &   3 &   0 &   3 &  35.000 &  51.000 &  86.000\\\\\n",
       "\t 1 & 1 & 2 &  60 & ALLUVIONI CAMBIO'       & 961    &  1 & 0 & 469    & 530    & 999    &   3 &   3 &   6 & 101.000 & 119.000 & 220.000\\\\\n",
       "\t 1 & 1 & 2 &  70 & ALTAVILLA MONFERRATO    & 497    &  2 & 0 & 229    & 217    & 446    &   4 &   2 &   6 &  31.000 &  33.000 &  64.000\\\\\n",
       "\t 1 & 1 & 2 &  80 & ALZANO SCRIVIA          & 380    &  1 & 0 & 160    & 146    & 306    &   3 &   0 &   3 &   4.000 &   3.000 &   7.000\\\\\n",
       "\t 1 & 1 & 2 &  90 & ARQUATA SCRIVIA         & 6.068  &  8 & 0 & 2.618  & 2.772  & 5.390  &  17 &   9 &  26 & 189.000 & 177.000 & 366.000\\\\\n",
       "\t 1 & 1 & 2 & 100 & AVOLASCA                & 306    &  1 & 0 & 123    & 114    & 237    &   0 &   0 &   0 &   5.000 &   5.000 &  10.000\\\\\n",
       "\t 1 & 1 & 2 & 110 & BALZOLA                 & 1.420  &  2 & 0 & 567    & 613    & 1.180  &   4 &   2 &   6 &  14.000 &  13.000 &  27.000\\\\\n",
       "\t 1 & 1 & 2 & 120 & BASALUZZO               & 2.071  &  2 & 0 & 973    & 960    & 1.933  &   6 &   2 &   8 & 125.000 & 144.000 & 269.000\\\\\n",
       "\t 1 & 1 & 2 & 130 & BASSIGNANA              & 1.742  &  2 & 0 & 795    & 870    & 1.665  &   4 &   6 &  10 & 110.000 & 133.000 & 243.000\\\\\n",
       "\t 1 & 1 & 2 & 140 & BELFORTE MONFERRATO     & 505    &  1 & 0 & 227    & 203    & 430    &   1 &   0 &   1 &   2.000 &   1.000 &   3.000\\\\\n",
       "\t 1 & 1 & 2 & 150 & BERGAMASCO              & 765    &  1 & 0 & 362    & 353    & 715    &   1 &   2 &   3 &  59.000 &  52.000 & 111.000\\\\\n",
       "\t 1 & 1 & 2 & 160 & BERZANO DI TORTONA      & 171    &  1 & 0 & 65     & 60     & 125    &   2 &   0 &   2 &   3.000 &   1.000 &   4.000\\\\\n",
       "\t 1 & 1 & 2 & 170 & BISTAGNO                & 1.930  &  2 & 0 & 736    & 779    & 1.515  &   5 &   4 &   9 &  21.000 &  28.000 &  49.000\\\\\n",
       "\t 1 & 1 & 2 & 180 & BORGHETTO DI BORBERA    & 1.991  &  2 & 0 & 888    & 883    & 1.771  &   5 &   3 &   8 &  68.000 &  75.000 & 143.000\\\\\n",
       "\t 1 & 1 & 2 & 190 & BORGORATTO ALESSANDRINO & 617    &  1 & 0 & 290    & 299    & 589    &   2 &   2 &   4 &  57.000 &  52.000 & 109.000\\\\\n",
       "\t 1 & 1 & 2 & 200 & BORGO SAN MARTINO       & 1.470  &  2 & 0 & 590    & 589    & 1.179  &   4 &   0 &   4 &  39.000 &  37.000 &  76.000\\\\\n",
       "\t 1 & 1 & 2 & 210 & BOSCO MARENGO           & 2.531  &  3 & 0 & 1.154  & 1.170  & 2.324  &   4 &   5 &   9 & 188.000 & 202.000 & 390.000\\\\\n",
       "\t 1 & 1 & 2 & 220 & BOSIO                   & 1.240  &  2 & 0 & 489    & 460    & 949    &   3 &   3 &   6 &  16.000 &  10.000 &  26.000\\\\\n",
       "\t 1 & 1 & 2 & 230 & BOZZOLE                 & 331    &  1 & 0 & 128    & 141    & 269    &   1 &   2 &   3 &   8.000 &   3.000 &  11.000\\\\\n",
       "\t 1 & 1 & 2 & 240 & BRIGNANO FRASCATA       & 451    &  1 & 0 & 200    & 189    & 389    &   2 &   0 &   2 &   6.000 &   7.000 &  13.000\\\\\n",
       "\t 1 & 1 & 2 & 250 & CABELLA LIGURE          & 554    &  1 & 0 & 334    & 287    & 621    &   0 &   1 &   1 & 108.000 &  99.000 & 207.000\\\\\n",
       "\t 1 & 1 & 2 & 260 & CAMAGNA MONFERRATO      & 510    &  1 & 0 & 257    & 251    & 508    &   2 &   2 &   4 &  40.000 &  30.000 &  70.000\\\\\n",
       "\t 1 & 1 & 2 & 270 & CAMINO                  & 802    &  2 & 0 & 359    & 369    & 728    &   1 &   2 &   3 &  40.000 &  39.000 &  79.000\\\\\n",
       "\t 1 & 1 & 2 & 280 & CANTALUPO LIGURE        & 549    &  1 & 0 & 278    & 284    & 562    &   0 &   0 &   0 &  67.000 &  70.000 & 137.000\\\\\n",
       "\t 1 & 1 & 2 & 290 & CAPRIATA D'ORBA         & 1.926  &  2 & 0 & 834    & 863    & 1.697  &   2 &   2 &   4 & 100.000 &  90.000 & 190.000\\\\\n",
       "\t 1 & 1 & 2 & 300 & CARBONARA SCRIVIA       & 1.055  &  1 & 0 & 449    & 463    & 912    &   2 &   1 &   3 &  40.000 &  26.000 &  66.000\\\\\n",
       "\t ⋮ & ⋮ & ⋮ & ⋮ & ⋮ & ⋮ & ⋮ & ⋮ & ⋮ & ⋮ & ⋮ & ⋮ & ⋮ & ⋮ & ⋮ & ⋮ & ⋮\\\\\n",
       "\t 4 & 20 & 111 &  780 & SERRENTI         & 5.028  &  4 & 0 & 2.247 & 2.228 & 4.475  & 11 & 10 & 21 & 150 & 103 & 253\\\\\n",
       "\t 4 & 20 & 111 &  790 & SERRI            & 676    &  1 & 0 & 327   & 303   & 630    &  2 &  4 &  6 &  44 &  23 &  67\\\\\n",
       "\t 4 & 20 & 111 &  800 & SETZU            & 144    &  1 & 0 & 65    & 63    & 128    &  2 &  1 &  3 &   1 &   0 &   1\\\\\n",
       "\t 4 & 20 & 111 &  810 & SEUI             & 1.361  &  2 & 0 & 782   & 764   & 1.546  &  8 &  4 & 12 & 210 & 220 & 430\\\\\n",
       "\t 4 & 20 & 111 &  820 & SEULO            & 897    &  1 & 0 & 442   & 425   & 867    &  6 &  1 &  7 &  62 &  66 & 128\\\\\n",
       "\t 4 & 20 & 111 &  830 & SIDDI            & 696    &  1 & 0 & 346   & 322   & 668    &  3 &  1 &  4 &  39 &  32 &  71\\\\\n",
       "\t 4 & 20 & 111 &  840 & SILIQUA          & 3.997  &  4 & 0 & 1.717 & 1.787 & 3.504  & 10 & 13 & 23 & 101 & 117 & 218\\\\\n",
       "\t 4 & 20 & 111 &  850 & SILIUS           & 1.271  &  2 & 0 & 618   & 533   & 1.151  &  9 &  4 & 13 &  62 &  58 & 120\\\\\n",
       "\t 4 & 20 & 111 &  860 & SIURGUS DONIGALA & 2.080  &  2 & 0 & 889   & 876   & 1.765  &  3 &  5 &  8 &  61 &  28 &  89\\\\\n",
       "\t 4 & 20 & 111 &  870 & SOLEMINIS        & 1.858  &  2 & 0 & 803   & 813   & 1.616  &  4 &  6 & 10 &  29 &  16 &  45\\\\\n",
       "\t 4 & 20 & 111 &  880 & SUELLI           & 1.135  &  1 & 0 & 535   & 515   & 1.050  &  3 &  2 &  5 &  40 &  30 &  70\\\\\n",
       "\t 4 & 20 & 111 &  890 & TEULADA          & 3.773  &  5 & 0 & 1.897 & 1.713 & 3.610  &  7 & 10 & 17 & 238 & 171 & 409\\\\\n",
       "\t 4 & 20 & 111 &  900 & TRATALIAS        & 1.107  &  1 & 0 & 521   & 529   & 1.050  &  3 &  0 &  3 &  57 &  52 & 109\\\\\n",
       "\t 4 & 20 & 111 &  910 & TUILI            & 1.062  &  2 & 0 & 465   & 509   & 974    &  1 &  4 &  5 &  29 &  35 &  64\\\\\n",
       "\t 4 & 20 & 111 &  920 & TURRI            & 442    &  1 & 0 & 222   & 229   & 451    &  1 &  1 &  2 &  38 &  39 &  77\\\\\n",
       "\t 4 & 20 & 111 &  930 & USSANA           & 4.285  &  4 & 0 & 1.968 & 1.967 & 3.935  & 11 & 13 & 24 & 238 & 198 & 436\\\\\n",
       "\t 4 & 20 & 111 &  940 & USSARAMANNA      & 556    &  1 & 0 & 270   & 277   & 547    &  3 &  2 &  5 &  33 &  39 &  72\\\\\n",
       "\t 4 & 20 & 111 &  950 & VALLERMOSA       & 1.944  &  2 & 0 & 1.024 & 994   & 2.018  &  3 &  6 &  9 & 201 & 188 & 389\\\\\n",
       "\t 4 & 20 & 111 &  960 & VILLACIDRO       & 14.281 & 14 & 0 & 6.379 & 6.416 & 12.795 & 42 & 30 & 72 & 538 & 428 & 966\\\\\n",
       "\t 4 & 20 & 111 &  970 & VILLAMAR         & 2.872  &  3 & 0 & 1.289 & 1.269 & 2.558  &  6 &  5 & 11 & 153 & 136 & 289\\\\\n",
       "\t 4 & 20 & 111 &  980 & VILLAMASSARGIA   & 3.655  &  4 & 0 & 1.608 & 1.668 & 3.276  &  7 &  5 & 12 & 101 &  77 & 178\\\\\n",
       "\t 4 & 20 & 111 &  990 & VILLANOVA TULO   & 1.158  &  1 & 0 & 607   & 567   & 1.174  &  5 &  2 &  7 & 120 & 125 & 245\\\\\n",
       "\t 4 & 20 & 111 & 1000 & VILLANOVAFORRU   & 681    &  1 & 0 & 325   & 305   & 630    &  2 &  1 &  3 &  39 &  43 &  82\\\\\n",
       "\t 4 & 20 & 111 & 1010 & VILLANOVAFRANCA  & 1.433  &  2 & 0 & 650   & 652   & 1.302  &  4 &  3 &  7 &  68 &  79 & 147\\\\\n",
       "\t 4 & 20 & 111 & 1020 & VILLAPERUCCIO    & 1.097  &  1 & 0 & 514   & 530   & 1.044  &  0 &  3 &  3 &  68 &  58 & 126\\\\\n",
       "\t 4 & 20 & 111 & 1030 & VILLAPUTZU       & 4.836  &  5 & 0 & 2.456 & 2.401 & 4.857  & 13 & 14 & 27 & 396 & 335 & 731\\\\\n",
       "\t 4 & 20 & 111 & 1040 & VILLASALTO       & 1.127  &  2 & 0 & 635   & 621   & 1.256  &  3 &  1 &  4 & 190 & 154 & 344\\\\\n",
       "\t 4 & 20 & 111 & 1050 & VILLASIMIUS      & 3.420  &  3 & 0 & 1.674 & 1.627 & 3.301  &  5 &  3 &  8 & 136 & 108 & 244\\\\\n",
       "\t 4 & 20 & 111 & 1060 & VILLASOR         & 6.857  &  7 & 0 & 3.041 & 3.080 & 6.121  & 16 & 13 & 29 & 186 & 135 & 321\\\\\n",
       "\t 4 & 20 & 111 & 1070 & VILLASPECIOSA    & 2.407  &  2 & 0 & 1.071 & 1.067 & 2.138  &  8 & 11 & 19 &  31 &  33 &  64\\\\\n",
       "\\end{tabular}\n"
      ],
      "text/markdown": [
       "\n",
       "A data.frame: 7978 × 17\n",
       "\n",
       "| ZONA &lt;int&gt; | REGIONE &lt;int&gt; | PROVINCIA &lt;int&gt; | COMUNE &lt;int&gt; | DENOMINAZIONE &lt;fct&gt; | POPCENSITA &lt;fct&gt; | SEZIONITOTALI &lt;dbl&gt; | DICUIOSP &lt;int&gt; | ISCRMASCHI &lt;fct&gt; | ISCRFEMM &lt;fct&gt; | ISCRTOTALI &lt;fct&gt; | DICIOTTMASCHI &lt;dbl&gt; | DICIOTTFEMM &lt;dbl&gt; | DICIOTTOTALI &lt;dbl&gt; | ESTEROMASCHI &lt;dbl&gt; | ESTEROFEMMINE &lt;dbl&gt; | ESTEROTOTALI &lt;dbl&gt; |\n",
       "|---|---|---|---|---|---|---|---|---|---|---|---|---|---|---|---|---|\n",
       "| 1 | 1 | 2 |  10 | ACQUI TERME             | 20.054 | 24 | 1 | 7.669  | 8.942  | 16.611 |  37 |  43 |  80 | 390.000 | 406.000 | 796.000 |\n",
       "| 1 | 1 | 2 |  20 | ALBERA LIGURE           | 329    |  1 | 0 | 181    | 163    | 344    |   0 |   1 |   1 |  39.000 |  33.000 |  72.000 |\n",
       "| 1 | 1 | 2 |  30 | ALESSANDRIA             | 89.411 | 93 | 2 | 35.565 | 39.453 | 75.018 | 196 | 172 | 368 |   2.566 |   2.496 |   5.062 |\n",
       "| 1 | 1 | 2 |  40 | ALFIANO NATTA           | 754    |  1 | 0 | 312    | 346    | 658    |   3 |   3 |   6 |  27.000 |  34.000 |  61.000 |\n",
       "| 1 | 1 | 2 |  50 | ALICE BEL COLLE         | 774    |  1 | 0 | 347    | 341    | 688    |   3 |   0 |   3 |  35.000 |  51.000 |  86.000 |\n",
       "| 1 | 1 | 2 |  60 | ALLUVIONI CAMBIO'       | 961    |  1 | 0 | 469    | 530    | 999    |   3 |   3 |   6 | 101.000 | 119.000 | 220.000 |\n",
       "| 1 | 1 | 2 |  70 | ALTAVILLA MONFERRATO    | 497    |  2 | 0 | 229    | 217    | 446    |   4 |   2 |   6 |  31.000 |  33.000 |  64.000 |\n",
       "| 1 | 1 | 2 |  80 | ALZANO SCRIVIA          | 380    |  1 | 0 | 160    | 146    | 306    |   3 |   0 |   3 |   4.000 |   3.000 |   7.000 |\n",
       "| 1 | 1 | 2 |  90 | ARQUATA SCRIVIA         | 6.068  |  8 | 0 | 2.618  | 2.772  | 5.390  |  17 |   9 |  26 | 189.000 | 177.000 | 366.000 |\n",
       "| 1 | 1 | 2 | 100 | AVOLASCA                | 306    |  1 | 0 | 123    | 114    | 237    |   0 |   0 |   0 |   5.000 |   5.000 |  10.000 |\n",
       "| 1 | 1 | 2 | 110 | BALZOLA                 | 1.420  |  2 | 0 | 567    | 613    | 1.180  |   4 |   2 |   6 |  14.000 |  13.000 |  27.000 |\n",
       "| 1 | 1 | 2 | 120 | BASALUZZO               | 2.071  |  2 | 0 | 973    | 960    | 1.933  |   6 |   2 |   8 | 125.000 | 144.000 | 269.000 |\n",
       "| 1 | 1 | 2 | 130 | BASSIGNANA              | 1.742  |  2 | 0 | 795    | 870    | 1.665  |   4 |   6 |  10 | 110.000 | 133.000 | 243.000 |\n",
       "| 1 | 1 | 2 | 140 | BELFORTE MONFERRATO     | 505    |  1 | 0 | 227    | 203    | 430    |   1 |   0 |   1 |   2.000 |   1.000 |   3.000 |\n",
       "| 1 | 1 | 2 | 150 | BERGAMASCO              | 765    |  1 | 0 | 362    | 353    | 715    |   1 |   2 |   3 |  59.000 |  52.000 | 111.000 |\n",
       "| 1 | 1 | 2 | 160 | BERZANO DI TORTONA      | 171    |  1 | 0 | 65     | 60     | 125    |   2 |   0 |   2 |   3.000 |   1.000 |   4.000 |\n",
       "| 1 | 1 | 2 | 170 | BISTAGNO                | 1.930  |  2 | 0 | 736    | 779    | 1.515  |   5 |   4 |   9 |  21.000 |  28.000 |  49.000 |\n",
       "| 1 | 1 | 2 | 180 | BORGHETTO DI BORBERA    | 1.991  |  2 | 0 | 888    | 883    | 1.771  |   5 |   3 |   8 |  68.000 |  75.000 | 143.000 |\n",
       "| 1 | 1 | 2 | 190 | BORGORATTO ALESSANDRINO | 617    |  1 | 0 | 290    | 299    | 589    |   2 |   2 |   4 |  57.000 |  52.000 | 109.000 |\n",
       "| 1 | 1 | 2 | 200 | BORGO SAN MARTINO       | 1.470  |  2 | 0 | 590    | 589    | 1.179  |   4 |   0 |   4 |  39.000 |  37.000 |  76.000 |\n",
       "| 1 | 1 | 2 | 210 | BOSCO MARENGO           | 2.531  |  3 | 0 | 1.154  | 1.170  | 2.324  |   4 |   5 |   9 | 188.000 | 202.000 | 390.000 |\n",
       "| 1 | 1 | 2 | 220 | BOSIO                   | 1.240  |  2 | 0 | 489    | 460    | 949    |   3 |   3 |   6 |  16.000 |  10.000 |  26.000 |\n",
       "| 1 | 1 | 2 | 230 | BOZZOLE                 | 331    |  1 | 0 | 128    | 141    | 269    |   1 |   2 |   3 |   8.000 |   3.000 |  11.000 |\n",
       "| 1 | 1 | 2 | 240 | BRIGNANO FRASCATA       | 451    |  1 | 0 | 200    | 189    | 389    |   2 |   0 |   2 |   6.000 |   7.000 |  13.000 |\n",
       "| 1 | 1 | 2 | 250 | CABELLA LIGURE          | 554    |  1 | 0 | 334    | 287    | 621    |   0 |   1 |   1 | 108.000 |  99.000 | 207.000 |\n",
       "| 1 | 1 | 2 | 260 | CAMAGNA MONFERRATO      | 510    |  1 | 0 | 257    | 251    | 508    |   2 |   2 |   4 |  40.000 |  30.000 |  70.000 |\n",
       "| 1 | 1 | 2 | 270 | CAMINO                  | 802    |  2 | 0 | 359    | 369    | 728    |   1 |   2 |   3 |  40.000 |  39.000 |  79.000 |\n",
       "| 1 | 1 | 2 | 280 | CANTALUPO LIGURE        | 549    |  1 | 0 | 278    | 284    | 562    |   0 |   0 |   0 |  67.000 |  70.000 | 137.000 |\n",
       "| 1 | 1 | 2 | 290 | CAPRIATA D'ORBA         | 1.926  |  2 | 0 | 834    | 863    | 1.697  |   2 |   2 |   4 | 100.000 |  90.000 | 190.000 |\n",
       "| 1 | 1 | 2 | 300 | CARBONARA SCRIVIA       | 1.055  |  1 | 0 | 449    | 463    | 912    |   2 |   1 |   3 |  40.000 |  26.000 |  66.000 |\n",
       "| ⋮ | ⋮ | ⋮ | ⋮ | ⋮ | ⋮ | ⋮ | ⋮ | ⋮ | ⋮ | ⋮ | ⋮ | ⋮ | ⋮ | ⋮ | ⋮ | ⋮ |\n",
       "| 4 | 20 | 111 |  780 | SERRENTI         | 5.028  |  4 | 0 | 2.247 | 2.228 | 4.475  | 11 | 10 | 21 | 150 | 103 | 253 |\n",
       "| 4 | 20 | 111 |  790 | SERRI            | 676    |  1 | 0 | 327   | 303   | 630    |  2 |  4 |  6 |  44 |  23 |  67 |\n",
       "| 4 | 20 | 111 |  800 | SETZU            | 144    |  1 | 0 | 65    | 63    | 128    |  2 |  1 |  3 |   1 |   0 |   1 |\n",
       "| 4 | 20 | 111 |  810 | SEUI             | 1.361  |  2 | 0 | 782   | 764   | 1.546  |  8 |  4 | 12 | 210 | 220 | 430 |\n",
       "| 4 | 20 | 111 |  820 | SEULO            | 897    |  1 | 0 | 442   | 425   | 867    |  6 |  1 |  7 |  62 |  66 | 128 |\n",
       "| 4 | 20 | 111 |  830 | SIDDI            | 696    |  1 | 0 | 346   | 322   | 668    |  3 |  1 |  4 |  39 |  32 |  71 |\n",
       "| 4 | 20 | 111 |  840 | SILIQUA          | 3.997  |  4 | 0 | 1.717 | 1.787 | 3.504  | 10 | 13 | 23 | 101 | 117 | 218 |\n",
       "| 4 | 20 | 111 |  850 | SILIUS           | 1.271  |  2 | 0 | 618   | 533   | 1.151  |  9 |  4 | 13 |  62 |  58 | 120 |\n",
       "| 4 | 20 | 111 |  860 | SIURGUS DONIGALA | 2.080  |  2 | 0 | 889   | 876   | 1.765  |  3 |  5 |  8 |  61 |  28 |  89 |\n",
       "| 4 | 20 | 111 |  870 | SOLEMINIS        | 1.858  |  2 | 0 | 803   | 813   | 1.616  |  4 |  6 | 10 |  29 |  16 |  45 |\n",
       "| 4 | 20 | 111 |  880 | SUELLI           | 1.135  |  1 | 0 | 535   | 515   | 1.050  |  3 |  2 |  5 |  40 |  30 |  70 |\n",
       "| 4 | 20 | 111 |  890 | TEULADA          | 3.773  |  5 | 0 | 1.897 | 1.713 | 3.610  |  7 | 10 | 17 | 238 | 171 | 409 |\n",
       "| 4 | 20 | 111 |  900 | TRATALIAS        | 1.107  |  1 | 0 | 521   | 529   | 1.050  |  3 |  0 |  3 |  57 |  52 | 109 |\n",
       "| 4 | 20 | 111 |  910 | TUILI            | 1.062  |  2 | 0 | 465   | 509   | 974    |  1 |  4 |  5 |  29 |  35 |  64 |\n",
       "| 4 | 20 | 111 |  920 | TURRI            | 442    |  1 | 0 | 222   | 229   | 451    |  1 |  1 |  2 |  38 |  39 |  77 |\n",
       "| 4 | 20 | 111 |  930 | USSANA           | 4.285  |  4 | 0 | 1.968 | 1.967 | 3.935  | 11 | 13 | 24 | 238 | 198 | 436 |\n",
       "| 4 | 20 | 111 |  940 | USSARAMANNA      | 556    |  1 | 0 | 270   | 277   | 547    |  3 |  2 |  5 |  33 |  39 |  72 |\n",
       "| 4 | 20 | 111 |  950 | VALLERMOSA       | 1.944  |  2 | 0 | 1.024 | 994   | 2.018  |  3 |  6 |  9 | 201 | 188 | 389 |\n",
       "| 4 | 20 | 111 |  960 | VILLACIDRO       | 14.281 | 14 | 0 | 6.379 | 6.416 | 12.795 | 42 | 30 | 72 | 538 | 428 | 966 |\n",
       "| 4 | 20 | 111 |  970 | VILLAMAR         | 2.872  |  3 | 0 | 1.289 | 1.269 | 2.558  |  6 |  5 | 11 | 153 | 136 | 289 |\n",
       "| 4 | 20 | 111 |  980 | VILLAMASSARGIA   | 3.655  |  4 | 0 | 1.608 | 1.668 | 3.276  |  7 |  5 | 12 | 101 |  77 | 178 |\n",
       "| 4 | 20 | 111 |  990 | VILLANOVA TULO   | 1.158  |  1 | 0 | 607   | 567   | 1.174  |  5 |  2 |  7 | 120 | 125 | 245 |\n",
       "| 4 | 20 | 111 | 1000 | VILLANOVAFORRU   | 681    |  1 | 0 | 325   | 305   | 630    |  2 |  1 |  3 |  39 |  43 |  82 |\n",
       "| 4 | 20 | 111 | 1010 | VILLANOVAFRANCA  | 1.433  |  2 | 0 | 650   | 652   | 1.302  |  4 |  3 |  7 |  68 |  79 | 147 |\n",
       "| 4 | 20 | 111 | 1020 | VILLAPERUCCIO    | 1.097  |  1 | 0 | 514   | 530   | 1.044  |  0 |  3 |  3 |  68 |  58 | 126 |\n",
       "| 4 | 20 | 111 | 1030 | VILLAPUTZU       | 4.836  |  5 | 0 | 2.456 | 2.401 | 4.857  | 13 | 14 | 27 | 396 | 335 | 731 |\n",
       "| 4 | 20 | 111 | 1040 | VILLASALTO       | 1.127  |  2 | 0 | 635   | 621   | 1.256  |  3 |  1 |  4 | 190 | 154 | 344 |\n",
       "| 4 | 20 | 111 | 1050 | VILLASIMIUS      | 3.420  |  3 | 0 | 1.674 | 1.627 | 3.301  |  5 |  3 |  8 | 136 | 108 | 244 |\n",
       "| 4 | 20 | 111 | 1060 | VILLASOR         | 6.857  |  7 | 0 | 3.041 | 3.080 | 6.121  | 16 | 13 | 29 | 186 | 135 | 321 |\n",
       "| 4 | 20 | 111 | 1070 | VILLASPECIOSA    | 2.407  |  2 | 0 | 1.071 | 1.067 | 2.138  |  8 | 11 | 19 |  31 |  33 |  64 |\n",
       "\n"
      ],
      "text/plain": [
       "     ZONA REGIONE PROVINCIA COMUNE DENOMINAZIONE           POPCENSITA\n",
       "1    1    1       2          10    ACQUI TERME             20.054    \n",
       "2    1    1       2          20    ALBERA LIGURE           329       \n",
       "3    1    1       2          30    ALESSANDRIA             89.411    \n",
       "4    1    1       2          40    ALFIANO NATTA           754       \n",
       "5    1    1       2          50    ALICE BEL COLLE         774       \n",
       "6    1    1       2          60    ALLUVIONI CAMBIO'       961       \n",
       "7    1    1       2          70    ALTAVILLA MONFERRATO    497       \n",
       "8    1    1       2          80    ALZANO SCRIVIA          380       \n",
       "9    1    1       2          90    ARQUATA SCRIVIA         6.068     \n",
       "10   1    1       2         100    AVOLASCA                306       \n",
       "11   1    1       2         110    BALZOLA                 1.420     \n",
       "12   1    1       2         120    BASALUZZO               2.071     \n",
       "13   1    1       2         130    BASSIGNANA              1.742     \n",
       "14   1    1       2         140    BELFORTE MONFERRATO     505       \n",
       "15   1    1       2         150    BERGAMASCO              765       \n",
       "16   1    1       2         160    BERZANO DI TORTONA      171       \n",
       "17   1    1       2         170    BISTAGNO                1.930     \n",
       "18   1    1       2         180    BORGHETTO DI BORBERA    1.991     \n",
       "19   1    1       2         190    BORGORATTO ALESSANDRINO 617       \n",
       "20   1    1       2         200    BORGO SAN MARTINO       1.470     \n",
       "21   1    1       2         210    BOSCO MARENGO           2.531     \n",
       "22   1    1       2         220    BOSIO                   1.240     \n",
       "23   1    1       2         230    BOZZOLE                 331       \n",
       "24   1    1       2         240    BRIGNANO FRASCATA       451       \n",
       "25   1    1       2         250    CABELLA LIGURE          554       \n",
       "26   1    1       2         260    CAMAGNA MONFERRATO      510       \n",
       "27   1    1       2         270    CAMINO                  802       \n",
       "28   1    1       2         280    CANTALUPO LIGURE        549       \n",
       "29   1    1       2         290    CAPRIATA D'ORBA         1.926     \n",
       "30   1    1       2         300    CARBONARA SCRIVIA       1.055     \n",
       "⋮    ⋮    ⋮       ⋮         ⋮      ⋮                       ⋮         \n",
       "7949 4    20      111        780   SERRENTI                5.028     \n",
       "7950 4    20      111        790   SERRI                   676       \n",
       "7951 4    20      111        800   SETZU                   144       \n",
       "7952 4    20      111        810   SEUI                    1.361     \n",
       "7953 4    20      111        820   SEULO                   897       \n",
       "7954 4    20      111        830   SIDDI                   696       \n",
       "7955 4    20      111        840   SILIQUA                 3.997     \n",
       "7956 4    20      111        850   SILIUS                  1.271     \n",
       "7957 4    20      111        860   SIURGUS DONIGALA        2.080     \n",
       "7958 4    20      111        870   SOLEMINIS               1.858     \n",
       "7959 4    20      111        880   SUELLI                  1.135     \n",
       "7960 4    20      111        890   TEULADA                 3.773     \n",
       "7961 4    20      111        900   TRATALIAS               1.107     \n",
       "7962 4    20      111        910   TUILI                   1.062     \n",
       "7963 4    20      111        920   TURRI                   442       \n",
       "7964 4    20      111        930   USSANA                  4.285     \n",
       "7965 4    20      111        940   USSARAMANNA             556       \n",
       "7966 4    20      111        950   VALLERMOSA              1.944     \n",
       "7967 4    20      111        960   VILLACIDRO              14.281    \n",
       "7968 4    20      111        970   VILLAMAR                2.872     \n",
       "7969 4    20      111        980   VILLAMASSARGIA          3.655     \n",
       "7970 4    20      111        990   VILLANOVA TULO          1.158     \n",
       "7971 4    20      111       1000   VILLANOVAFORRU          681       \n",
       "7972 4    20      111       1010   VILLANOVAFRANCA         1.433     \n",
       "7973 4    20      111       1020   VILLAPERUCCIO           1.097     \n",
       "7974 4    20      111       1030   VILLAPUTZU              4.836     \n",
       "7975 4    20      111       1040   VILLASALTO              1.127     \n",
       "7976 4    20      111       1050   VILLASIMIUS             3.420     \n",
       "7977 4    20      111       1060   VILLASOR                6.857     \n",
       "7978 4    20      111       1070   VILLASPECIOSA           2.407     \n",
       "     SEZIONITOTALI DICUIOSP ISCRMASCHI ISCRFEMM ISCRTOTALI DICIOTTMASCHI\n",
       "1    24            1        7.669      8.942    16.611      37          \n",
       "2     1            0        181        163      344          0          \n",
       "3    93            2        35.565     39.453   75.018     196          \n",
       "4     1            0        312        346      658          3          \n",
       "5     1            0        347        341      688          3          \n",
       "6     1            0        469        530      999          3          \n",
       "7     2            0        229        217      446          4          \n",
       "8     1            0        160        146      306          3          \n",
       "9     8            0        2.618      2.772    5.390       17          \n",
       "10    1            0        123        114      237          0          \n",
       "11    2            0        567        613      1.180        4          \n",
       "12    2            0        973        960      1.933        6          \n",
       "13    2            0        795        870      1.665        4          \n",
       "14    1            0        227        203      430          1          \n",
       "15    1            0        362        353      715          1          \n",
       "16    1            0        65         60       125          2          \n",
       "17    2            0        736        779      1.515        5          \n",
       "18    2            0        888        883      1.771        5          \n",
       "19    1            0        290        299      589          2          \n",
       "20    2            0        590        589      1.179        4          \n",
       "21    3            0        1.154      1.170    2.324        4          \n",
       "22    2            0        489        460      949          3          \n",
       "23    1            0        128        141      269          1          \n",
       "24    1            0        200        189      389          2          \n",
       "25    1            0        334        287      621          0          \n",
       "26    1            0        257        251      508          2          \n",
       "27    2            0        359        369      728          1          \n",
       "28    1            0        278        284      562          0          \n",
       "29    2            0        834        863      1.697        2          \n",
       "30    1            0        449        463      912          2          \n",
       "⋮    ⋮             ⋮        ⋮          ⋮        ⋮          ⋮            \n",
       "7949  4            0        2.247      2.228    4.475      11           \n",
       "7950  1            0        327        303      630         2           \n",
       "7951  1            0        65         63       128         2           \n",
       "7952  2            0        782        764      1.546       8           \n",
       "7953  1            0        442        425      867         6           \n",
       "7954  1            0        346        322      668         3           \n",
       "7955  4            0        1.717      1.787    3.504      10           \n",
       "7956  2            0        618        533      1.151       9           \n",
       "7957  2            0        889        876      1.765       3           \n",
       "7958  2            0        803        813      1.616       4           \n",
       "7959  1            0        535        515      1.050       3           \n",
       "7960  5            0        1.897      1.713    3.610       7           \n",
       "7961  1            0        521        529      1.050       3           \n",
       "7962  2            0        465        509      974         1           \n",
       "7963  1            0        222        229      451         1           \n",
       "7964  4            0        1.968      1.967    3.935      11           \n",
       "7965  1            0        270        277      547         3           \n",
       "7966  2            0        1.024      994      2.018       3           \n",
       "7967 14            0        6.379      6.416    12.795     42           \n",
       "7968  3            0        1.289      1.269    2.558       6           \n",
       "7969  4            0        1.608      1.668    3.276       7           \n",
       "7970  1            0        607        567      1.174       5           \n",
       "7971  1            0        325        305      630         2           \n",
       "7972  2            0        650        652      1.302       4           \n",
       "7973  1            0        514        530      1.044       0           \n",
       "7974  5            0        2.456      2.401    4.857      13           \n",
       "7975  2            0        635        621      1.256       3           \n",
       "7976  3            0        1.674      1.627    3.301       5           \n",
       "7977  7            0        3.041      3.080    6.121      16           \n",
       "7978  2            0        1.071      1.067    2.138       8           \n",
       "     DICIOTTFEMM DICIOTTOTALI ESTEROMASCHI ESTEROFEMMINE ESTEROTOTALI\n",
       "1     43          80          390.000      406.000       796.000     \n",
       "2      1           1           39.000       33.000        72.000     \n",
       "3    172         368            2.566        2.496         5.062     \n",
       "4      3           6           27.000       34.000        61.000     \n",
       "5      0           3           35.000       51.000        86.000     \n",
       "6      3           6          101.000      119.000       220.000     \n",
       "7      2           6           31.000       33.000        64.000     \n",
       "8      0           3            4.000        3.000         7.000     \n",
       "9      9          26          189.000      177.000       366.000     \n",
       "10     0           0            5.000        5.000        10.000     \n",
       "11     2           6           14.000       13.000        27.000     \n",
       "12     2           8          125.000      144.000       269.000     \n",
       "13     6          10          110.000      133.000       243.000     \n",
       "14     0           1            2.000        1.000         3.000     \n",
       "15     2           3           59.000       52.000       111.000     \n",
       "16     0           2            3.000        1.000         4.000     \n",
       "17     4           9           21.000       28.000        49.000     \n",
       "18     3           8           68.000       75.000       143.000     \n",
       "19     2           4           57.000       52.000       109.000     \n",
       "20     0           4           39.000       37.000        76.000     \n",
       "21     5           9          188.000      202.000       390.000     \n",
       "22     3           6           16.000       10.000        26.000     \n",
       "23     2           3            8.000        3.000        11.000     \n",
       "24     0           2            6.000        7.000        13.000     \n",
       "25     1           1          108.000       99.000       207.000     \n",
       "26     2           4           40.000       30.000        70.000     \n",
       "27     2           3           40.000       39.000        79.000     \n",
       "28     0           0           67.000       70.000       137.000     \n",
       "29     2           4          100.000       90.000       190.000     \n",
       "30     1           3           40.000       26.000        66.000     \n",
       "⋮    ⋮           ⋮            ⋮            ⋮             ⋮           \n",
       "7949 10          21           150          103           253         \n",
       "7950  4           6            44           23            67         \n",
       "7951  1           3             1            0             1         \n",
       "7952  4          12           210          220           430         \n",
       "7953  1           7            62           66           128         \n",
       "7954  1           4            39           32            71         \n",
       "7955 13          23           101          117           218         \n",
       "7956  4          13            62           58           120         \n",
       "7957  5           8            61           28            89         \n",
       "7958  6          10            29           16            45         \n",
       "7959  2           5            40           30            70         \n",
       "7960 10          17           238          171           409         \n",
       "7961  0           3            57           52           109         \n",
       "7962  4           5            29           35            64         \n",
       "7963  1           2            38           39            77         \n",
       "7964 13          24           238          198           436         \n",
       "7965  2           5            33           39            72         \n",
       "7966  6           9           201          188           389         \n",
       "7967 30          72           538          428           966         \n",
       "7968  5          11           153          136           289         \n",
       "7969  5          12           101           77           178         \n",
       "7970  2           7           120          125           245         \n",
       "7971  1           3            39           43            82         \n",
       "7972  3           7            68           79           147         \n",
       "7973  3           3            68           58           126         \n",
       "7974 14          27           396          335           731         \n",
       "7975  1           4           190          154           344         \n",
       "7976  3           8           136          108           244         \n",
       "7977 13          29           186          135           321         \n",
       "7978 11          19            31           33            64         "
      ]
     },
     "metadata": {},
     "output_type": "display_data"
    }
   ],
   "source": [
    "dirdata<-\"/home/guida/Scrivania/MAGISTRALE/FIRST_YEAR/SECOND_SEMESTER/ADVANCED_STATISTICS_FOR_PHYSICS_ANALYSIS/EXERCISES/NOTEBOOKS_EXERCISES/rileseme_30062017_0.csv\"\n",
    "mydata<-read.csv(dirdata,header=TRUE, sep=';')\n",
    "mydata"
   ]
  },
  {
   "cell_type": "code",
   "execution_count": 12,
   "metadata": {},
   "outputs": [
    {
     "data": {
      "text/html": [
       "15945010"
      ],
      "text/latex": [
       "15945010"
      ],
      "text/markdown": [
       "15945010"
      ],
      "text/plain": [
       "[1] 15945010"
      ]
     },
     "metadata": {},
     "output_type": "display_data"
    },
    {
     "data": {
      "text/html": [
       "16300538"
      ],
      "text/latex": [
       "16300538"
      ],
      "text/markdown": [
       "16300538"
      ],
      "text/plain": [
       "[1] 16300538"
      ]
     },
     "metadata": {},
     "output_type": "display_data"
    }
   ],
   "source": [
    "sum(as.numeric(mydata$ISCRMASCHI))\n",
    "sum(as.numeric(mydata$ISCRFEMM))"
   ]
  }
 ],
 "metadata": {
  "kernelspec": {
   "display_name": "R",
   "language": "R",
   "name": "ir"
  },
  "language_info": {
   "codemirror_mode": "r",
   "file_extension": ".r",
   "mimetype": "text/x-r-source",
   "name": "R",
   "pygments_lexer": "r",
   "version": "3.6.0"
  },
  "latex_envs": {
   "LaTeX_envs_menu_present": true,
   "autoclose": false,
   "autocomplete": true,
   "bibliofile": "biblio.bib",
   "cite_by": "apalike",
   "current_citInitial": 1,
   "eqLabelWithNumbers": true,
   "eqNumInitial": 1,
   "hotkeys": {
    "equation": "Ctrl-E",
    "itemize": "Ctrl-I"
   },
   "labels_anchors": false,
   "latex_user_defs": false,
   "report_style_numbering": false,
   "user_envs_cfg": false
  }
 },
 "nbformat": 4,
 "nbformat_minor": 2
}
