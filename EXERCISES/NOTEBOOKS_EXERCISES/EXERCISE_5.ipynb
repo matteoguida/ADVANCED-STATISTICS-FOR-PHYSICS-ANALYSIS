{
 "cells": [
  {
   "cell_type": "markdown",
   "metadata": {},
   "source": [
    "### ADVANCED STATISTICS FOR PHYSICS ANALYSIS, Physics of Data\n",
    "###  Student: Matteo Guida \n",
    "### ID Number: 1211201"
   ]
  },
  {
   "cell_type": "markdown",
   "metadata": {},
   "source": [
    "# Sheet 5"
   ]
  },
  {
   "cell_type": "markdown",
   "metadata": {},
   "source": [
    "## Exercise 1"
   ]
  },
  {
   "cell_type": "code",
   "execution_count": 2,
   "metadata": {},
   "outputs": [
    {
     "name": "stderr",
     "output_type": "stream",
     "text": [
      "Installing package into ‘/home/guida/R/x86_64-pc-linux-gnu-library/3.6’\n",
      "(as ‘lib’ is unspecified)\n"
     ]
    }
   ],
   "source": [
    "install.packages(\"plotrix\") \n",
    "library(\"plotrix\")"
   ]
  },
  {
   "cell_type": "code",
   "execution_count": 1,
   "metadata": {},
   "outputs": [],
   "source": [
    "my.func <- function(x,y,z){\n",
    "    if((x-1/2)**2+(y-1/2)**2 <= 1/4 & z<sin(sqrt(log( x + y + 1 )))){\n",
    "    1    \n",
    "    }\n",
    "    else{0}\n",
    "}"
   ]
  },
  {
   "cell_type": "code",
   "execution_count": 3,
   "metadata": {},
   "outputs": [
    {
     "data": {
      "text/html": [
       "0.5669"
      ],
      "text/latex": [
       "0.5669"
      ],
      "text/markdown": [
       "0.5669"
      ],
      "text/plain": [
       "[1] 0.5669"
      ]
     },
     "metadata": {},
     "output_type": "display_data"
    }
   ],
   "source": [
    "N <- 10000\n",
    "x <- runif(N)\n",
    "y <- runif(N)\n",
    "z <- runif(N)\n",
    "mean.value.method <- mapply(my.func,x,y,z)\n",
    "mean.value.method.integral <- sum(mean.value.method)/N\n",
    "mean.value.method.integral"
   ]
  },
  {
   "cell_type": "markdown",
   "metadata": {},
   "source": [
    "## Exercise 2"
   ]
  },
  {
   "cell_type": "code",
   "execution_count": 39,
   "metadata": {},
   "outputs": [],
   "source": [
    "my.func2 <-function(x,y,z){\n",
    "    if(0<=z<= 1 & z^2=>x^2+y^2)\n",
    "        {\n",
    "        1\n",
    "    }\n",
    "    else if (1<=z<= 2 & x**2 + y**2 + (z - 1)**2 < 1) {\n",
    "    expr2\n",
    "    }\n",
    "    else{\n",
    "        \n",
    "    }&& z <= 1, x**2 + y**2 + (z - 1)**2 < 1 && z >= 1),1,0)\n"
   ]
  },
  {
   "cell_type": "code",
   "execution_count": 37,
   "metadata": {},
   "outputs": [],
   "source": [
    "set.seed(5432)\n",
    "N <- 10000 \n",
    "x <- runif(N)\n",
    "y <- runif(N)\n",
    "z <- runif(N)\n",
    "hit.or.miss <- mapply(my.func2,x,y,z)\n",
    "hit.or.miss.integral <- sum(hit.or.miss)/N"
   ]
  },
  {
   "cell_type": "code",
   "execution_count": 38,
   "metadata": {},
   "outputs": [
    {
     "name": "stdout",
     "output_type": "stream",
     "text": [
      "Hit-or-Miss :  0.1349 \n"
     ]
    }
   ],
   "source": [
    "cat(paste(\"Hit-or-Miss : \", hit.or.miss.integral ),\"\\n\")"
   ]
  },
  {
   "cell_type": "markdown",
   "metadata": {},
   "source": [
    "## Exercise 3"
   ]
  },
  {
   "cell_type": "code",
   "execution_count": 11,
   "metadata": {},
   "outputs": [],
   "source": [
    "my.func3 <-function(x,y,z){\n",
    "    if(0<=z & z<=1 & z^2>x^2+y^2){1}\n",
    "    else if(1 <= z & z<= 2 & x**2 + y**2 + (z - 1)**2 < 1){1}\n",
    "    else{0}\n",
    "}"
   ]
  },
  {
   "cell_type": "code",
   "execution_count": 12,
   "metadata": {},
   "outputs": [
    {
     "name": "stdout",
     "output_type": "stream",
     "text": [
      "Hit-or-Miss :  3.1448 \n"
     ]
    }
   ],
   "source": [
    "N <- 10000\n",
    "x <- runif(N, min = -1, max = 1)\n",
    "y <- runif(N, min = -1, max = 1)\n",
    "z <- runif(N, min =  0, max = 2)\n",
    "hit.or.miss <- mapply(my.func3,x,y,z)\n",
    "hit.or.miss.integral <- 8*sum(hit.or.miss)/N # 8 is the volume of the box\n",
    "cat(paste(\"Hit-or-Miss : \", hit.or.miss.integral ),\"\\n\")"
   ]
  },
  {
   "cell_type": "markdown",
   "metadata": {},
   "source": [
    "## Exercise 4"
   ]
  },
  {
   "cell_type": "code",
   "execution_count": 11,
   "metadata": {},
   "outputs": [
    {
     "name": "stdout",
     "output_type": "stream",
     "text": [
      "Importance Sample Integral 1:  0.364319424217879 \n",
      "Importance Sample Integral 2:  0.335058605378572 \n",
      "R Integral:  0.362510415658997"
     ]
    }
   ],
   "source": [
    "# a>1 , b>0 parameters of the integral\n",
    "# Let's choose some random values to do an attempt\n",
    "set.seed(43242)\n",
    "a<-5\n",
    "b<-11\n",
    "l<-3\n",
    "\n",
    "integral <- function(x){ifelse(x >= b,x**(a-1)*exp(-x),0)}\n",
    "\n",
    "sampling.1 <- function(x){ifelse(x >= b,exp(b)*exp(-x),0)}\n",
    "inverse.sampling.1 <- function(x){b-log(x)}\n",
    "\n",
    "sampling.2 <- function(x){l*exp(-l*(x-b))}\n",
    "inverse.sampling.2 <- function(x){b-(log(x)/l)}\n",
    "\n",
    "N<- 10000\n",
    "u.1<- runif(N)\n",
    "x.1 <- inverse.sampling.1(u.1)\n",
    "y.1 <- integral(x.1)/sampling.1(x.1)\n",
    "\n",
    "x.2 <- inverse.sampling.2(u.1)\n",
    "y.2 <- integral(x.2)/sampling.2(x.2)\n",
    "result.1 <- mean(y.1)\n",
    "result.2 <- mean(y.2)\n",
    "result.1.1<- integrate(integral,b,Inf)$value\n",
    "\n",
    "cat(paste(\"Importance Sample Integral 1: \", result.1, \"\\n\"))\n",
    "cat(paste(\"Importance Sample Integral 2: \", result.2, \"\\n\"))\n",
    "cat(paste(\"R Integral: \", result.1.1))"
   ]
  },
  {
   "cell_type": "markdown",
   "metadata": {},
   "source": [
    "## Exercise 5"
   ]
  },
  {
   "cell_type": "code",
   "execution_count": 54,
   "metadata": {},
   "outputs": [
    {
     "name": "stdout",
     "output_type": "stream",
     "text": [
      "Importance Sample Integral 3:  0.00277148633741312 \n",
      "R Integral:  0.00277457792187863"
     ]
    }
   ],
   "source": [
    "set.seed(43242)\n",
    "a<-0.5\n",
    "b<-5\n",
    "sampling.3 <- function(x){exp(-(x-b))}\n",
    "inverse.sampling.3 <- function(x){b-log(x)}\n",
    "x.3 <- inverse.sampling.3(u.1)\n",
    "y.3 <- integral(x.3)/sampling.3(x.3)\n",
    "result.3 <- mean(y.3)\n",
    "result.3.1<- integrate(integral,b,Inf)$value\n",
    "\n",
    "cat(paste(\"Importance Sample Integral 3: \", result.3, \"\\n\"))\n",
    "cat(paste(\"R Integral: \", result.3.1))"
   ]
  },
  {
   "cell_type": "code",
   "execution_count": null,
   "metadata": {},
   "outputs": [],
   "source": []
  }
 ],
 "metadata": {
  "kernelspec": {
   "display_name": "R",
   "language": "R",
   "name": "ir"
  },
  "language_info": {
   "codemirror_mode": "r",
   "file_extension": ".r",
   "mimetype": "text/x-r-source",
   "name": "R",
   "pygments_lexer": "r",
   "version": "3.6.0"
  },
  "latex_envs": {
   "LaTeX_envs_menu_present": true,
   "autoclose": false,
   "autocomplete": true,
   "bibliofile": "biblio.bib",
   "cite_by": "apalike",
   "current_citInitial": 1,
   "eqLabelWithNumbers": true,
   "eqNumInitial": 1,
   "hotkeys": {
    "equation": "Ctrl-E",
    "itemize": "Ctrl-I"
   },
   "labels_anchors": false,
   "latex_user_defs": false,
   "report_style_numbering": false,
   "user_envs_cfg": false
  }
 },
 "nbformat": 4,
 "nbformat_minor": 2
}
